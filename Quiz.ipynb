{
  "nbformat": 4,
  "nbformat_minor": 0,
  "metadata": {
    "colab": {
      "name": "Quiz.ipynb",
      "provenance": []
    },
    "kernelspec": {
      "name": "python3",
      "display_name": "Python 3"
    }
  },
  "cells": [
    {
      "cell_type": "code",
      "metadata": {
        "id": "U48osbpmHQQn",
        "colab_type": "code",
        "colab": {}
      },
      "source": [
        "#Fixing problems in the Data - varying column titles for same data\n",
        "\n",
        "for engagement_record in daily_engagement:\n",
        "    engagement_record['account_key'] = engagement_record['acct']\n",
        "    del[engagement_record['acct']]\n",
        "\n",
        "#Identifying missing record across data\n",
        "\n",
        "for enrollment in enrollments:\n",
        "    student = enrollment['account_key']\n",
        "    if student not in unique_engagement_students:\n",
        "        print enrollment\n",
        "        break"
      ],
      "execution_count": null,
      "outputs": []
    }
  ]
}