{
  "nbformat": 4,
  "nbformat_minor": 0,
  "metadata": {
    "colab": {
      "name": "Quiz.ipynb",
      "provenance": [],
      "authorship_tag": "ABX9TyNPNHdR4UBl709Yr7zzZyA8",
      "include_colab_link": true
    },
    "kernelspec": {
      "name": "python3",
      "display_name": "Python 3"
    }
  },
  "cells": [
    {
      "cell_type": "markdown",
      "metadata": {
        "id": "view-in-github",
        "colab_type": "text"
      },
      "source": [
        "<a href=\"https://colab.research.google.com/github/Abinaya-J/Udacity_Intro_to_Data_Analysis/blob/master/Quiz.ipynb\" target=\"_parent\"><img src=\"https://colab.research.google.com/assets/colab-badge.svg\" alt=\"Open In Colab\"/></a>"
      ]
    },
    {
      "cell_type": "code",
      "metadata": {
        "id": "de61Y-QtIbM1",
        "colab_type": "code",
        "colab": {}
      },
      "source": [
        "#Debugging Data Analysis Code\n",
        "student_with_max_minutes = None\n",
        "max_minutes = 0\n",
        "\n",
        "for student, total_minutes in total_minutes_by_account.items():\n",
        "    if total_minutes > max_minutes:\n",
        "        max_minutes = total_minutes\n",
        "        student_with_max_minutes = student\n",
        "\n",
        "max_minutes\n",
        "\n",
        "for engagement_record in paid_engagement_in_first_week:\n",
        "    if engagement_record['account_key'] == student_with_max_minutes:\n",
        "        print engagement_record\n",
        "\n",
        "#Fixing Bug in within_one_week()\n",
        "def within_one_week(join_date, engagement_date):\n",
        "    time_delta = engagement_date - join_date\n",
        "    return time_delta.days >= 0 and time_delta.days < 7"
      ],
      "execution_count": null,
      "outputs": []
    }
  ]
}