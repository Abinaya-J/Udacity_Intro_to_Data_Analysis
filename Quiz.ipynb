{
  "nbformat": 4,
  "nbformat_minor": 0,
  "metadata": {
    "colab": {
      "name": "Quiz.ipynb",
      "provenance": []
    },
    "kernelspec": {
      "name": "python3",
      "display_name": "Python 3"
    }
  },
  "cells": [
    {
      "cell_type": "code",
      "metadata": {
        "id": "0xw4ZyQ0HwgP",
        "colab_type": "code",
        "colab": {}
      },
      "source": [
        "#Getting data from first week and refining the data\n",
        "\n",
        "def within_one_week(join_date, engagement_date):\n",
        "    time_delta = engagement_date - join_date\n",
        "    return time_delta.days < 7\n",
        "\n",
        "def remove_free_trial_cancels(data):\n",
        "    new_data = []\n",
        "    for data_point in data:\n",
        "        if data_point['account_key'] in paid_students:\n",
        "            new_data.append(data_point)\n",
        "    return new_data\n",
        "\n",
        "paid_enrollments = remove_free_trial_cancels(non_udacity_enrollments)\n",
        "paid_engagement = remove_free_trial_cancels(non_udacity_engagement)\n",
        "paid_submissions = remove_free_trial_cancels(non_udacity_submissions)\n",
        "\n",
        "print len(paid_enrollments)\n",
        "print len(paid_engagement)\n",
        "print len(paid_submissions)"
      ],
      "execution_count": null,
      "outputs": []
    }
  ]
}