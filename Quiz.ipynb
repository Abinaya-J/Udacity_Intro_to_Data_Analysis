{
  "nbformat": 4,
  "nbformat_minor": 0,
  "metadata": {
    "colab": {
      "name": "Quiz.ipynb",
      "provenance": [],
      "authorship_tag": "ABX9TyOqt1RHIx3NSC1QxGbTqcCm",
      "include_colab_link": true
    },
    "kernelspec": {
      "name": "python3",
      "display_name": "Python 3"
    }
  },
  "cells": [
    {
      "cell_type": "markdown",
      "metadata": {
        "id": "view-in-github",
        "colab_type": "text"
      },
      "source": [
        "<a href=\"https://colab.research.google.com/github/Abinaya-J/Udacity_Intro_to_Data_Analysis/blob/master/Quiz.ipynb\" target=\"_parent\"><img src=\"https://colab.research.google.com/assets/colab-badge.svg\" alt=\"Open In Colab\"/></a>"
      ]
    },
    {
      "cell_type": "code",
      "metadata": {
        "id": "G_opAaV8Olyh",
        "colab_type": "code",
        "colab": {}
      },
      "source": [
        "#Making Histograms\n",
        "%pylab inline\n",
        "\n",
        "import matplotlib.pyplot as plt\n",
        "import numpy as np\n",
        "\n",
        "# Summarize the given data\n",
        "def describe_data(data):\n",
        "    print 'Mean:', np.mean(data)\n",
        "    print 'Standard deviation:', np.std(data)\n",
        "    print 'Minimum:', np.min(data)\n",
        "    print 'Maximum:', np.max(data)\n",
        "    plt.hist(data)"
      ],
      "execution_count": null,
      "outputs": []
    }
  ]
}