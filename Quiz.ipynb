{
  "nbformat": 4,
  "nbformat_minor": 0,
  "metadata": {
    "colab": {
      "name": "Quiz.ipynb",
      "provenance": []
    },
    "kernelspec": {
      "name": "python3",
      "display_name": "Python 3"
    }
  },
  "cells": [
    {
      "cell_type": "code",
      "metadata": {
        "id": "0xw4ZyQ0HwgP",
        "colab_type": "code",
        "colab": {}
      },
      "source": [
        "#Getting data from first week from refined data\n",
        "\n",
        "paid_engagement_in_first_week = []\n",
        "for engagement_record in paid_engagement:\n",
        "    account_key = engagement_record['account_key']\n",
        "    join_date = paid_students[account_key]\n",
        "    engagement_record_date = engagement_record['utc_date']\n",
        "\n",
        "    if within_one_week(join_date, engagement_record_date):\n",
        "         paid_engagement_in_first_week.append(engagement_record)\n",
        "\n",
        "len(paid_engagement_in_first_week)"
      ],
      "execution_count": null,
      "outputs": []
    }
  ]
}