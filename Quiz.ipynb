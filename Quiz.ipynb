{
  "nbformat": 4,
  "nbformat_minor": 0,
  "metadata": {
    "colab": {
      "name": "Quiz.ipynb",
      "provenance": []
    },
    "kernelspec": {
      "name": "python3",
      "display_name": "Python 3"
    }
  },
  "cells": [
    {
      "cell_type": "code",
      "metadata": {
        "id": "0xw4ZyQ0HwgP",
        "colab_type": "code",
        "colab": {}
      },
      "source": [
        "#Finding the student with maximum minutes in terms of engagement\n",
        "\n",
        "student_with_max_minutes = None\n",
        "max_minutes = 0\n",
        "\n",
        "for student, total_minutes in total_minutes_by_account.items():\n",
        "    if total_minutes > max_minutes:\n",
        "        max_minutes = total_minutes\n",
        "        student_with_max_minutes = student\n",
        "\n",
        "for engagement_record in paid_engagement_in_first_week:\n",
        "    if engagement_record['account_key'] == student_with_max_minutes:\n",
        "        print engagement_record"
      ],
      "execution_count": null,
      "outputs": []
    }
  ]
}