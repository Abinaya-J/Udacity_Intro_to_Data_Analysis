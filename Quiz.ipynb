{
  "nbformat": 4,
  "nbformat_minor": 0,
  "metadata": {
    "colab": {
      "name": "Quiz.ipynb",
      "provenance": [],
      "authorship_tag": "ABX9TyOhNpUVlxjbw14Sv1gPFSZZ",
      "include_colab_link": true
    },
    "kernelspec": {
      "name": "python3",
      "display_name": "Python 3"
    }
  },
  "cells": [
    {
      "cell_type": "markdown",
      "metadata": {
        "id": "view-in-github",
        "colab_type": "text"
      },
      "source": [
        "<a href=\"https://colab.research.google.com/github/Abinaya-J/Udacity_Intro_to_Data_Analysis/blob/master/Quiz.ipynb\" target=\"_parent\"><img src=\"https://colab.research.google.com/assets/colab-badge.svg\" alt=\"Open In Colab\"/></a>"
      ]
    },
    {
      "cell_type": "code",
      "metadata": {
        "id": "q2x7lzhRp828",
        "colab_type": "code",
        "colab": {}
      },
      "source": [
        "import numpy as np\n",
        "\n",
        "# Change False to True for each block of code to see what it does\n",
        "\n",
        "# Arithmetic operations between 2 NumPy arrays\n",
        "if False:\n",
        "    a = np.array([1, 2, 3, 4])\n",
        "    b = np.array([1, 2, 1, 2])\n",
        "    \n",
        "    print a + b\n",
        "    print a - b\n",
        "    print a * b\n",
        "    print a / b\n",
        "    print a ** b\n",
        "    \n",
        "# Arithmetic operations between a NumPy array and a single number\n",
        "if False:\n",
        "    a = np.array([1, 2, 3, 4])\n",
        "    b = 2\n",
        "    \n",
        "    print a + b\n",
        "    print a - b\n",
        "    print a * b\n",
        "    print a / b\n",
        "    print a ** b\n",
        "    \n",
        "# Logical operations with NumPy arrays\n",
        "if False:\n",
        "    a = np.array([True, True, False, False])\n",
        "    b = np.array([True, False, True, False])\n",
        "    \n",
        "    print a & b\n",
        "    print a | b\n",
        "    print ~a\n",
        "    \n",
        "    print a & True\n",
        "    print a & False\n",
        "    \n",
        "    print a | True\n",
        "    print a | False\n",
        "    \n",
        "# Comparison operations between 2 NumPy Arrays\n",
        "if False:\n",
        "    a = np.array([1, 2, 3, 4, 5])\n",
        "    b = np.array([5, 4, 3, 2, 1])\n",
        "    \n",
        "    print a > b\n",
        "    print a >= b\n",
        "    print a < b\n",
        "    print a <= b\n",
        "    print a == b\n",
        "    print a != b\n",
        "    \n",
        "# Comparison operations between a NumPy array and a single number\n",
        "if False:\n",
        "    a = np.array([1, 2, 3, 4])\n",
        "    b = 2\n",
        "    \n",
        "    print a > b\n",
        "    print a >= b\n",
        "    print a < b\n",
        "    print a <= b\n",
        "    print a == b\n",
        "    print a != b"
      ],
      "execution_count": null,
      "outputs": []
    }
  ]
}