{
  "nbformat": 4,
  "nbformat_minor": 0,
  "metadata": {
    "colab": {
      "name": "Quiz.ipynb",
      "provenance": []
    },
    "kernelspec": {
      "name": "python3",
      "display_name": "Python 3"
    }
  },
  "cells": [
    {
      "cell_type": "code",
      "metadata": {
        "id": "XU-qge2xcaIc",
        "colab_type": "code",
        "colab": {}
      },
      "source": [
        "import unicodecsv\n",
        "\n",
        "def read_csv(filename):\n",
        "    with open(filename, 'rb') as f:\n",
        "        reader = unicodecsv.DictReader(f)\n",
        "        return list(reader)\n",
        "\n",
        "enrollments = read_csv('/datasets/ud170/udacity-students/enrollments.csv')\n",
        "daily_engagement = read_csv('/datasets/ud170/udacity-students/daily_engagement.csv')\n",
        "project_submissions = read_csv('/datasets/ud170/udacity-students/project_submissions.csv')\n",
        "    \n",
        "### For each of these three tables, find the number of rows in the table and\n",
        "### the number of unique students in the table. To find the number of unique\n",
        "### students, you might want to create a set of the account keys in each table.\n",
        "\n",
        "enrollment_num_rows = len(enrollments)\n",
        "print(enrollment_num_rows)\n",
        "\n",
        "unique_enrolled_students= set()\n",
        "for enrollment in enrollments:\n",
        "    unique_enrolled_students.add(enrollment['account_key'])\n",
        "enrollment_num_unique_students = len(unique_enrolled_students)\n",
        "print(enrollment_num_unique_students)\n",
        "\n",
        "engagement_num_rows = len(daily_engagement)\n",
        "print(engagement_num_rows)\n",
        "\n",
        "unique_engaged_students= set()\n",
        "for engagement in daily_engagement:\n",
        "    unique_engaged_students.add(engagement['acct'])\n",
        "engagement_num_unique_students = len(unique_engaged_students)\n",
        "print(engagement_num_unique_students)\n"
      ],
      "execution_count": null,
      "outputs": []
    }
  ]
}