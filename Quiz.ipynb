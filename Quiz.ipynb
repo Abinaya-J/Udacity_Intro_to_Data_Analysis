{
  "nbformat": 4,
  "nbformat_minor": 0,
  "metadata": {
    "colab": {
      "name": "Quiz.ipynb",
      "provenance": [],
      "authorship_tag": "ABX9TyNPm2O0lhlOc+xO3dO+MMG6",
      "include_colab_link": true
    },
    "kernelspec": {
      "name": "python3",
      "display_name": "Python 3"
    }
  },
  "cells": [
    {
      "cell_type": "markdown",
      "metadata": {
        "id": "view-in-github",
        "colab_type": "text"
      },
      "source": [
        "<a href=\"https://colab.research.google.com/github/Abinaya-J/Udacity_Intro_to_Data_Analysis/blob/master/Quiz.ipynb\" target=\"_parent\"><img src=\"https://colab.research.google.com/assets/colab-badge.svg\" alt=\"Open In Colab\"/></a>"
      ]
    },
    {
      "cell_type": "code",
      "metadata": {
        "id": "xUnVdSA1pNwf",
        "colab_type": "code",
        "colab": {}
      },
      "source": [
        "# Numpy functions\n",
        "if False:\n",
        "    print employment.mean()\n",
        "    print employment.std()\n",
        "    print employment.max()\n",
        "    print employment.sum()\n",
        "\n",
        "def max_employment(countries, employment):\n",
        "    '''\n",
        "    Fill in this function to return the name of the country\n",
        "    with the highest employment in the given employment\n",
        "    data, and the employment in that country.\n",
        "    '''\n",
        "    i=employment.argmax()\n",
        "    return (countries[i],employment[i])"
      ],
      "execution_count": null,
      "outputs": []
    }
  ]
}