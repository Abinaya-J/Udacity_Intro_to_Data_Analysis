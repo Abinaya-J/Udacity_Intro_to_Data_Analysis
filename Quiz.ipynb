{
  "nbformat": 4,
  "nbformat_minor": 0,
  "metadata": {
    "colab": {
      "name": "Quiz.ipynb",
      "provenance": []
    },
    "kernelspec": {
      "name": "python3",
      "display_name": "Python 3"
    }
  },
  "cells": [
    {
      "cell_type": "code",
      "metadata": {
        "id": "0xw4ZyQ0HwgP",
        "colab_type": "code",
        "colab": {}
      },
      "source": [
        "#Creating a dictionary with specific requirements from the data\n",
        "\n",
        "paid_students = {}\n",
        "for enrollment in non_udacity_enrollments:\n",
        "    if (not enrollment['is_canceled'] or\n",
        "            enrollment['days_to_cancel'] > 7):\n",
        "        account_key = enrollment['account_key']\n",
        "        enrollment_date = enrollment['join_date']\n",
        "        if (account_key not in paid_students or\n",
        "                enrollment_date > paid_students[account_key]):\n",
        "            paid_students[account_key] = enrollment_date\n",
        "len(paid_students)"
      ],
      "execution_count": null,
      "outputs": []
    }
  ]
}