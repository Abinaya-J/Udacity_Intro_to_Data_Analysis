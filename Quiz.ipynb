{
  "nbformat": 4,
  "nbformat_minor": 0,
  "metadata": {
    "colab": {
      "name": "Quiz.ipynb",
      "provenance": []
    },
    "kernelspec": {
      "name": "python3",
      "display_name": "Python 3"
    }
  },
  "cells": [
    {
      "cell_type": "code",
      "metadata": {
        "id": "0xw4ZyQ0HwgP",
        "colab_type": "code",
        "colab": {}
      },
      "source": [
        "#Checking for more problem records\n",
        "\n",
        "num_problem_students = 0\n",
        "for enrollment in enrollments:\n",
        "    student = enrollment['account_key']\n",
        "    if (student not in unique_engagement_students and \n",
        "            enrollment['join_date'] != enrollment['cancel_date']):\n",
        "        print enrollment\n",
        "        num_problem_students += 1\n",
        "\n",
        "num_problem_students"
      ],
      "execution_count": null,
      "outputs": []
    }
  ]
}