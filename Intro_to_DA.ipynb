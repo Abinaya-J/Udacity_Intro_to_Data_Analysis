{
  "nbformat": 4,
  "nbformat_minor": 0,
  "metadata": {
    "colab": {
      "name": "Intro to DA.ipynb",
      "provenance": [],
      "authorship_tag": "ABX9TyNy28XP9VZAndZ9mwar3tMQ",
      "include_colab_link": true
    },
    "kernelspec": {
      "name": "python3",
      "display_name": "Python 3"
    }
  },
  "cells": [
    {
      "cell_type": "markdown",
      "metadata": {
        "id": "view-in-github",
        "colab_type": "text"
      },
      "source": [
        "<a href=\"https://colab.research.google.com/github/Abinaya-J/Udacity_Intro_to_Data_Analysis/blob/master/Intro_to_DA.ipynb\" target=\"_parent\"><img src=\"https://colab.research.google.com/assets/colab-badge.svg\" alt=\"Open In Colab\"/></a>"
      ]
    },
    {
      "cell_type": "code",
      "metadata": {
        "id": "nxgz6NPmH4or",
        "colab_type": "code",
        "colab": {}
      },
      "source": [
        "#Getting Data from First Week\n",
        "def within_one_week(join_date, engagement_date):\n",
        "    time_delta = engagement_date - join_date\n",
        "    return time_delta.days < 7\n",
        "\n",
        "def remove_free_trial_cancels(data):\n",
        "    new_data = []\n",
        "    for data_point in data:\n",
        "        if data_point['account_key'] in paid_students:\n",
        "            new_data.append(data_point)\n",
        "    return new_data\n",
        "\n",
        "paid_enrollments = remove_free_trial_cancels(non_udacity_enrollments)\n",
        "paid_engagement = remove_free_trial_cancels(non_udacity_engagement)\n",
        "paid_submissions = remove_free_trial_cancels(non_udacity_submissions)\n",
        "\n",
        "print len(paid_enrollments)\n",
        "print len(paid_engagement)\n",
        "print len(paid_submissions)\n",
        "\n",
        "paid_engagement_in_first_week = []\n",
        "for engagement_record in paid_engagement:\n",
        "    account_key = engagement_record['account_key']\n",
        "    join_date = paid_students[account_key]\n",
        "    engagement_record_date = engagement_record['utc_date']\n",
        "\n",
        "    if within_one_week(join_date, engagement_record_date):\n",
        "         paid_engagement_in_first_week.append(engagement_record)\n",
        "\n",
        "len(paid_engagement_in_first_week)"
      ],
      "execution_count": null,
      "outputs": []
    }
  ]
}