{
  "nbformat": 4,
  "nbformat_minor": 0,
  "metadata": {
    "kernelspec": {
      "display_name": "Python 2",
      "language": "python",
      "name": "python2"
    },
    "language_info": {
      "codemirror_mode": {
        "name": "ipython",
        "version": 2
      },
      "file_extension": ".py",
      "mimetype": "text/x-python",
      "name": "python",
      "nbconvert_exporter": "python",
      "pygments_lexer": "ipython2",
      "version": "2.7.10"
    },
    "colab": {
      "name": "L1_Starter_Code.ipynb",
      "provenance": [],
      "toc_visible": true,
      "include_colab_link": true
    }
  },
  "cells": [
    {
      "cell_type": "markdown",
      "metadata": {
        "id": "view-in-github",
        "colab_type": "text"
      },
      "source": [
        "<a href=\"https://colab.research.google.com/github/Abinaya-J/Udacity_Intro_to_Data_Analysis/blob/master/L1_Starter_Code.ipynb\" target=\"_parent\"><img src=\"https://colab.research.google.com/assets/colab-badge.svg\" alt=\"Open In Colab\"/></a>"
      ]
    },
    {
      "cell_type": "markdown",
      "metadata": {
        "id": "24Agmc6vcxpb",
        "colab_type": "text"
      },
      "source": [
        "## Load Data from CSVs"
      ]
    },
    {
      "cell_type": "code",
      "metadata": {
        "id": "HVvam5Omcxpc",
        "colab_type": "code",
        "colab": {}
      },
      "source": [
        "import csv\n",
        "\n",
        "## Longer version of code (replaced with shorter, equivalent version below)\n",
        "\n",
        "# enrollments = []\n",
        "# f = open('enrollments.csv', 'rb')\n",
        "# reader = unicodecsv.DictReader(f)\n",
        "# for row in reader:\n",
        "#     enrollments.append(row)\n",
        "# f.close()\n",
        "enrollments=[]\n",
        "with open('enrollments.csv', 'rb') as f:\n",
        "    reader = csv.DictReader(f)\n",
        "    enrollments = list(reader)"
      ],
      "execution_count": 2,
      "outputs": []
    },
    {
      "cell_type": "code",
      "metadata": {
        "id": "FmmPdZYWcxpl",
        "colab_type": "code",
        "colab": {
          "base_uri": "https://localhost:8080/",
          "height": 87
        },
        "outputId": "d7bd41d8-013f-4209-8209-73de93c99a00"
      },
      "source": [
        "#####################################\n",
        "#                 1                 #\n",
        "#####################################\n",
        "\n",
        "## Read in the data from daily_engagement.csv and project_submissions.csv \n",
        "## and store the results in the below variables.\n",
        "## Then look at the first row of each table.\n",
        "\n",
        "daily_engagement = []     \n",
        "with open('daily_engagement.csv', 'rb') as f:\n",
        "    reader = csv.DictReader(f)\n",
        "    daily_engagement = list(reader)\n",
        "    \n",
        "project_submissions = []\n",
        "with open('project_submissions.csv', 'rb') as f:\n",
        "    reader = csv.DictReader(f)\n",
        "    project_submissions = list(reader)\n",
        "    \n",
        "print(daily_engagement[0])\n",
        "print(project_submissions[0])\n",
        "print(enrollments[0])"
      ],
      "execution_count": 39,
      "outputs": [
        {
          "output_type": "stream",
          "text": [
            "{'lessons_completed': '0.0', 'num_courses_visited': '1.0', 'total_minutes_visited': '11.6793745', 'projects_completed': '0.0', 'acct': '0', 'utc_date': '2015-01-09'}\n",
            "{'lesson_key': '3176718735', 'processing_state': 'EVALUATED', 'account_key': '256', 'assigned_rating': 'UNGRADED', 'completion_date': '2015-01-16', 'creation_date': '2015-01-14'}\n",
            "{'status': 'canceled', 'is_udacity': True, 'is_canceled': True, 'join_date': datetime.datetime(2014, 11, 10, 0, 0), 'account_key': '448', 'cancel_date': datetime.datetime(2015, 1, 14, 0, 0), 'days_to_cancel': 65}\n"
          ],
          "name": "stdout"
        }
      ]
    },
    {
      "cell_type": "markdown",
      "metadata": {
        "id": "KZ1sGJzecxpy",
        "colab_type": "text"
      },
      "source": [
        "## Fixing Data Types"
      ]
    },
    {
      "cell_type": "code",
      "metadata": {
        "id": "SYCHjCHrcxp0",
        "colab_type": "code",
        "colab": {
          "base_uri": "https://localhost:8080/",
          "height": 53
        },
        "outputId": "38805813-0359-440c-efeb-2fe274ffda57"
      },
      "source": [
        "from datetime import datetime as dt\n",
        "\n",
        "# Takes a date as a string, and returns a Python datetime object. \n",
        "# If there is no date given, returns None\n",
        "def parse_date(date):\n",
        "    if date == '':\n",
        "        return None\n",
        "    else:\n",
        "        return dt.strptime(date, '%Y-%m-%d')\n",
        "    \n",
        "# Takes a string which is either an empty string or represents an integer,\n",
        "# and returns an int or None.\n",
        "def parse_maybe_int(i):\n",
        "    if i == '':\n",
        "        return None\n",
        "    else:\n",
        "        return int(i)\n",
        "\n",
        "# Clean up the data types in the enrollments table\n",
        "for enrollment in enrollments:\n",
        "    enrollment['cancel_date'] = parse_date(enrollment['cancel_date'])\n",
        "    enrollment['days_to_cancel'] = parse_maybe_int(enrollment['days_to_cancel'])\n",
        "    enrollment['is_canceled'] = enrollment['is_canceled'] == 'True'\n",
        "    enrollment['is_udacity'] = enrollment['is_udacity'] == 'True'\n",
        "    enrollment['join_date'] = parse_date(enrollment['join_date'])\n",
        "    \n",
        "print(enrollments[0])"
      ],
      "execution_count": 4,
      "outputs": [
        {
          "output_type": "stream",
          "text": [
            "{'status': 'canceled', 'is_udacity': True, 'is_canceled': True, 'join_date': datetime.datetime(2014, 11, 10, 0, 0), 'account_key': '448', 'cancel_date': datetime.datetime(2015, 1, 14, 0, 0), 'days_to_cancel': 65}\n"
          ],
          "name": "stdout"
        }
      ]
    },
    {
      "cell_type": "code",
      "metadata": {
        "id": "3zjKVh6ncxp4",
        "colab_type": "code",
        "colab": {
          "base_uri": "https://localhost:8080/",
          "height": 53
        },
        "outputId": "38e32dec-db34-4aac-c10b-4f642a8491b2"
      },
      "source": [
        "# Clean up the data types in the engagement table\n",
        "for engagement_record in daily_engagement:\n",
        "    engagement_record['lessons_completed'] = int(float(engagement_record['lessons_completed']))\n",
        "    engagement_record['num_courses_visited'] = int(float(engagement_record['num_courses_visited']))\n",
        "    engagement_record['projects_completed'] = int(float(engagement_record['projects_completed']))\n",
        "    engagement_record['total_minutes_visited'] = float(engagement_record['total_minutes_visited'])\n",
        "    engagement_record['utc_date'] = parse_date(engagement_record['utc_date'])\n",
        "    \n",
        "print(daily_engagement[0])"
      ],
      "execution_count": 5,
      "outputs": [
        {
          "output_type": "stream",
          "text": [
            "{'lessons_completed': 0, 'num_courses_visited': 1, 'total_minutes_visited': 11.6793745, 'projects_completed': 0, 'acct': '0', 'utc_date': datetime.datetime(2015, 1, 9, 0, 0)}\n"
          ],
          "name": "stdout"
        }
      ]
    },
    {
      "cell_type": "code",
      "metadata": {
        "id": "BxdFVgJmcxqG",
        "colab_type": "code",
        "colab": {
          "base_uri": "https://localhost:8080/",
          "height": 53
        },
        "outputId": "489a79cb-a826-4f6d-fef8-77a4d1d5ad68"
      },
      "source": [
        "# Clean up the data types in the submissions table\n",
        "for submission in project_submissions:\n",
        "    submission['completion_date'] = parse_date(submission['completion_date'])\n",
        "    submission['creation_date'] = parse_date(submission['creation_date'])\n",
        "\n",
        "print(project_submissions[0])"
      ],
      "execution_count": 6,
      "outputs": [
        {
          "output_type": "stream",
          "text": [
            "{'lesson_key': '3176718735', 'processing_state': 'EVALUATED', 'account_key': '256', 'assigned_rating': 'UNGRADED', 'completion_date': datetime.datetime(2015, 1, 16, 0, 0), 'creation_date': datetime.datetime(2015, 1, 14, 0, 0)}\n"
          ],
          "name": "stdout"
        }
      ]
    },
    {
      "cell_type": "markdown",
      "metadata": {
        "id": "OOXkg92hcxqM",
        "colab_type": "text"
      },
      "source": [
        "## Investigating the Data"
      ]
    },
    {
      "cell_type": "code",
      "metadata": {
        "id": "H4EDhCVhcxqN",
        "colab_type": "code",
        "colab": {
          "base_uri": "https://localhost:8080/",
          "height": 117
        },
        "outputId": "c28f6b62-7abc-4b17-89b0-98ff6e6aa1ae"
      },
      "source": [
        "#####################################\n",
        "#                 2                 #\n",
        "#####################################\n",
        "\n",
        "## Find the total number of rows and the number of unique students (account keys)\n",
        "## in each table.\n",
        "\n",
        "enrollment_num_rows = len(enrollments)\n",
        "print(enrollment_num_rows)\n",
        "\n",
        "unique_enrolled_students= set()\n",
        "for enrollment in enrollments:\n",
        "    unique_enrolled_students.add(enrollment['account_key'])\n",
        "enrollment_num_unique_students = len(unique_enrolled_students)\n",
        "print(enrollment_num_unique_students)\n",
        "\n",
        "\n",
        "engagement_num_rows = len(daily_engagement)\n",
        "print(engagement_num_rows)\n",
        "\n",
        "unique_engaged_students= set()\n",
        "for engagement in daily_engagement:\n",
        "    unique_engaged_students.add(engagement['acct'])\n",
        "engagement_num_unique_students = len(unique_engaged_students)\n",
        "print(engagement_num_unique_students)\n",
        "\n",
        "\n",
        "submission_num_rows =len(project_submissions)\n",
        "print(submission_num_rows)\n",
        "\n",
        "unique_submitted_students= set()\n",
        "for submission in project_submissions:\n",
        "    unique_submitted_students.add(submission['account_key'])\n",
        "submission_num_unique_students = len(unique_submitted_students)\n",
        "print(submission_num_unique_students)\n"
      ],
      "execution_count": 7,
      "outputs": [
        {
          "output_type": "stream",
          "text": [
            "1640\n",
            "1302\n",
            "136240\n",
            "1237\n",
            "3642\n",
            "743\n"
          ],
          "name": "stdout"
        }
      ]
    },
    {
      "cell_type": "markdown",
      "metadata": {
        "id": "TxpKu8yPcxqR",
        "colab_type": "text"
      },
      "source": [
        "## Problems in the Data"
      ]
    },
    {
      "cell_type": "code",
      "metadata": {
        "id": "ebpZHe2FcxqS",
        "colab_type": "code",
        "colab": {}
      },
      "source": [
        "#####################################\n",
        "#                 3                 #\n",
        "#####################################\n",
        "\n",
        "## Rename the \"acct\" column in the daily_engagement table to \"account_key\".\n",
        "for engagement_record in daily_engagement:\n",
        "    engagement_record['account_key'] = engagement_record['acct']\n",
        "    del[engagement_record['acct']]"
      ],
      "execution_count": 8,
      "outputs": []
    },
    {
      "cell_type": "markdown",
      "metadata": {
        "id": "FEqVPH6FcxqW",
        "colab_type": "text"
      },
      "source": [
        "## Missing Engagement Records"
      ]
    },
    {
      "cell_type": "code",
      "metadata": {
        "id": "xbd0RbXCcxqW",
        "colab_type": "code",
        "colab": {
          "base_uri": "https://localhost:8080/",
          "height": 53
        },
        "outputId": "68a26ffb-419e-49fb-b32f-b9096f9b5dc5"
      },
      "source": [
        "#####################################\n",
        "#                 4                 #\n",
        "#####################################\n",
        "\n",
        "## Find any one student enrollments where the student is missing from the daily engagement table.\n",
        "## Output that enrollment.\n",
        "for enrollment in enrollments:\n",
        "    student = enrollment['account_key']\n",
        "    if student not in unique_engaged_students:\n",
        "        print enrollment\n",
        "        break"
      ],
      "execution_count": 9,
      "outputs": [
        {
          "output_type": "stream",
          "text": [
            "{'status': 'canceled', 'is_udacity': False, 'is_canceled': True, 'join_date': datetime.datetime(2014, 11, 12, 0, 0), 'account_key': '1219', 'cancel_date': datetime.datetime(2014, 11, 12, 0, 0), 'days_to_cancel': 0}\n"
          ],
          "name": "stdout"
        }
      ]
    },
    {
      "cell_type": "markdown",
      "metadata": {
        "id": "vkC2280icxqb",
        "colab_type": "text"
      },
      "source": [
        "## Checking for More Problem Records"
      ]
    },
    {
      "cell_type": "code",
      "metadata": {
        "id": "dWpq0xICcxqb",
        "colab_type": "code",
        "colab": {
          "base_uri": "https://localhost:8080/",
          "height": 104
        },
        "outputId": "3648a36a-6c82-4f54-dc97-e7238810f79b"
      },
      "source": [
        "#####################################\n",
        "#                 5                 #\n",
        "#####################################\n",
        "\n",
        "## Find the number of surprising data points (enrollments missing from\n",
        "## the engagement table) that remain, if any.\n",
        "num_problem_students = 0\n",
        "for enrollment in enrollments:\n",
        "    student = enrollment['account_key']\n",
        "    if (student not in unique_engaged_students and \n",
        "            enrollment['join_date'] != enrollment['cancel_date']):\n",
        "        print enrollment\n",
        "        num_problem_students += 1\n",
        "\n",
        "print(num_problem_students)"
      ],
      "execution_count": 10,
      "outputs": [
        {
          "output_type": "stream",
          "text": [
            "{'status': 'canceled', 'is_udacity': True, 'is_canceled': True, 'join_date': datetime.datetime(2015, 1, 10, 0, 0), 'account_key': '1304', 'cancel_date': datetime.datetime(2015, 3, 10, 0, 0), 'days_to_cancel': 59}\n",
            "{'status': 'canceled', 'is_udacity': True, 'is_canceled': True, 'join_date': datetime.datetime(2015, 3, 10, 0, 0), 'account_key': '1304', 'cancel_date': datetime.datetime(2015, 6, 17, 0, 0), 'days_to_cancel': 99}\n",
            "{'status': 'current', 'is_udacity': True, 'is_canceled': False, 'join_date': datetime.datetime(2015, 2, 25, 0, 0), 'account_key': '1101', 'cancel_date': None, 'days_to_cancel': None}\n",
            "3\n"
          ],
          "name": "stdout"
        }
      ]
    },
    {
      "cell_type": "markdown",
      "metadata": {
        "id": "dItXzwxMcxqf",
        "colab_type": "text"
      },
      "source": [
        "## Tracking Down the Remaining Problems"
      ]
    },
    {
      "cell_type": "code",
      "metadata": {
        "id": "gpS0qQxtcxqg",
        "colab_type": "code",
        "colab": {
          "base_uri": "https://localhost:8080/",
          "height": 33
        },
        "outputId": "ac9fe297-4b2b-415e-e97e-170e3fd98ecf"
      },
      "source": [
        "# Create a set of the account keys for all Udacity test accounts\n",
        "udacity_test_accounts = set()\n",
        "for enrollment in enrollments:\n",
        "    if enrollment['is_udacity']:\n",
        "        udacity_test_accounts.add(enrollment['account_key'])\n",
        "print(len(udacity_test_accounts))"
      ],
      "execution_count": 11,
      "outputs": [
        {
          "output_type": "stream",
          "text": [
            "6\n"
          ],
          "name": "stdout"
        }
      ]
    },
    {
      "cell_type": "code",
      "metadata": {
        "id": "z5ZVt248cxql",
        "colab_type": "code",
        "colab": {}
      },
      "source": [
        "# Given some data with an account_key field, removes any records corresponding to Udacity test accounts\n",
        "def remove_udacity_accounts(data):\n",
        "    non_udacity_data = []\n",
        "    for data_point in data:\n",
        "        if data_point['account_key'] not in udacity_test_accounts:\n",
        "            non_udacity_data.append(data_point)\n",
        "    return non_udacity_data"
      ],
      "execution_count": 12,
      "outputs": []
    },
    {
      "cell_type": "code",
      "metadata": {
        "id": "XoFU_ue7cxqo",
        "colab_type": "code",
        "colab": {
          "base_uri": "https://localhost:8080/",
          "height": 67
        },
        "outputId": "968352d2-0532-4286-d42a-6f1b3503da19"
      },
      "source": [
        "# Remove Udacity test accounts from all three tables\n",
        "non_udacity_enrollments = remove_udacity_accounts(enrollments)\n",
        "non_udacity_engagement = remove_udacity_accounts(daily_engagement)\n",
        "non_udacity_submissions = remove_udacity_accounts(project_submissions)\n",
        "\n",
        "print(len(non_udacity_enrollments))\n",
        "print(len(non_udacity_engagement))\n",
        "print(len(non_udacity_submissions))"
      ],
      "execution_count": 13,
      "outputs": [
        {
          "output_type": "stream",
          "text": [
            "1622\n",
            "135656\n",
            "3634\n"
          ],
          "name": "stdout"
        }
      ]
    },
    {
      "cell_type": "markdown",
      "metadata": {
        "id": "UZdkvpxOcxqr",
        "colab_type": "text"
      },
      "source": [
        "## Refining the Question"
      ]
    },
    {
      "cell_type": "code",
      "metadata": {
        "id": "RZ272ISxcxqs",
        "colab_type": "code",
        "colab": {
          "base_uri": "https://localhost:8080/",
          "height": 33
        },
        "outputId": "0814a91c-52f2-4bde-b6b3-06fb7e6412ac"
      },
      "source": [
        "#####################################\n",
        "#                 6                 #\n",
        "#####################################\n",
        "\n",
        "## Create a dictionary named paid_students containing all students who either\n",
        "## haven't canceled yet or who remained enrolled for more than 7 days. The keys\n",
        "## should be account keys, and the values should be the date the student enrolled.\n",
        "\n",
        "paid_students = {}\n",
        "for enrollment in non_udacity_enrollments:\n",
        "  if not enrollment['is_canceled'] or enrollment['days_to_cancel'] > 7:\n",
        "    account_key = enrollment['account_key']\n",
        "    enrollment_date = enrollment['join_date']\n",
        "    if account_key not in paid_students or \\\n",
        "    enrollment_date > paid_students[account_key]:\n",
        "      paid_students[account_key] = enrollment_date\n",
        "print(len(paid_students))"
      ],
      "execution_count": 14,
      "outputs": [
        {
          "output_type": "stream",
          "text": [
            "995\n"
          ],
          "name": "stdout"
        }
      ]
    },
    {
      "cell_type": "markdown",
      "metadata": {
        "id": "Myz5RdNmcxqu",
        "colab_type": "text"
      },
      "source": [
        "## Getting Data from First Week"
      ]
    },
    {
      "cell_type": "code",
      "metadata": {
        "id": "Rx450Dbocxqv",
        "colab_type": "code",
        "colab": {}
      },
      "source": [
        "# Takes a student's join date and the date of a specific engagement record,\n",
        "# and returns True if that engagement record happened within one week\n",
        "# of the student joining.\n",
        "def within_one_week(join_date, engagement_date):\n",
        "    time_delta = engagement_date - join_date\n",
        "    return time_delta.days >= 0 and time_delta.days < 7"
      ],
      "execution_count": 31,
      "outputs": []
    },
    {
      "cell_type": "code",
      "metadata": {
        "id": "8hZ6m9ogcxqy",
        "colab_type": "code",
        "colab": {
          "base_uri": "https://localhost:8080/",
          "height": 50
        },
        "outputId": "db55e261-ae15-4d60-88e8-b9d4b4658c95"
      },
      "source": [
        "#####################################\n",
        "#                 7                 #\n",
        "#####################################\n",
        "\n",
        "## Create a list of rows from the engagement table including only rows where\n",
        "## the student is one of the paid students you just found, and the date is within\n",
        "## one week of the student's join date.\n",
        "def remove_free_trial_cancels(data):\n",
        "  new_data = []\n",
        "  for data_point in data:\n",
        "    if data_point['account_key'] in paid_students:\n",
        "      new_data.append(data_point)\n",
        "  return new_data\n",
        "\n",
        "paid_engagement = remove_free_trial_cancels(non_udacity_engagement)\n",
        "print(len(paid_engagement))\n",
        "\n",
        "paid_engagement_in_first_week = []\n",
        "for engagement_record in paid_engagement:\n",
        "  account_key = engagement_record['account_key']\n",
        "  join_date = paid_students[account_key]\n",
        "  engagement_record_date = engagement_record['utc_date']\n",
        "  if within_one_week(join_date, engagement_record_date):\n",
        "    paid_engagement_in_first_week.append(engagement_record)\n",
        "\n",
        "print(len(paid_engagement_in_first_week))"
      ],
      "execution_count": 32,
      "outputs": [
        {
          "output_type": "stream",
          "text": [
            "134549\n",
            "6919\n"
          ],
          "name": "stdout"
        }
      ]
    },
    {
      "cell_type": "markdown",
      "metadata": {
        "id": "riaQHZGOcxq2",
        "colab_type": "text"
      },
      "source": [
        "## Exploring Student Engagement"
      ]
    },
    {
      "cell_type": "code",
      "metadata": {
        "id": "jeP9SAe-cxq2",
        "colab_type": "code",
        "colab": {}
      },
      "source": [
        "from collections import defaultdict\n",
        "\n",
        "# Create a dictionary of engagement grouped by student.\n",
        "# The keys are account keys, and the values are lists of engagement records.\n",
        "engagement_by_account = defaultdict(list)\n",
        "for engagement_record in paid_engagement_in_first_week:\n",
        "    account_key = engagement_record['account_key']\n",
        "    engagement_by_account[account_key].append(engagement_record)"
      ],
      "execution_count": 33,
      "outputs": []
    },
    {
      "cell_type": "code",
      "metadata": {
        "id": "SK6iGQcTcxq5",
        "colab_type": "code",
        "colab": {}
      },
      "source": [
        "# Create a dictionary with the total minutes each student spent in the classroom during the first week.\n",
        "# The keys are account keys, and the values are numbers (total minutes)\n",
        "total_minutes_by_account = {}\n",
        "for account_key, engagement_for_student in engagement_by_account.items():\n",
        "    total_minutes = 0\n",
        "    for engagement_record in engagement_for_student:\n",
        "        total_minutes += engagement_record['total_minutes_visited']\n",
        "    total_minutes_by_account[account_key] = total_minutes"
      ],
      "execution_count": 34,
      "outputs": []
    },
    {
      "cell_type": "code",
      "metadata": {
        "id": "LIHWIKlkcxq8",
        "colab_type": "code",
        "colab": {
          "base_uri": "https://localhost:8080/",
          "height": 84
        },
        "outputId": "fb35890f-c436-4cac-edec-80663ba05b35"
      },
      "source": [
        "import numpy as np\n",
        "\n",
        "# Summarize the data about minutes spent in the classroom\n",
        "total_minutes = total_minutes_by_account.values()\n",
        "print 'Mean:', np.mean(total_minutes)\n",
        "print 'Standard deviation:', np.std(total_minutes)\n",
        "print 'Minimum:', np.min(total_minutes)\n",
        "print 'Maximum:', np.max(total_minutes)"
      ],
      "execution_count": 35,
      "outputs": [
        {
          "output_type": "stream",
          "text": [
            "Mean: 306.70832675342825\n",
            "Standard deviation: 412.99693340852957\n",
            "Minimum: 0.0\n",
            "Maximum: 3564.7332644989997\n"
          ],
          "name": "stdout"
        }
      ]
    },
    {
      "cell_type": "markdown",
      "metadata": {
        "id": "vLVqgBZJcxq_",
        "colab_type": "text"
      },
      "source": [
        "## Debugging Data Analysis Code"
      ]
    },
    {
      "cell_type": "code",
      "metadata": {
        "id": "-9vTvMsEcxrA",
        "colab_type": "code",
        "colab": {
          "base_uri": "https://localhost:8080/",
          "height": 170
        },
        "outputId": "3b373f1e-b21c-435e-8d75-763e72f2b1bb"
      },
      "source": [
        "#####################################\n",
        "#                 8                 #\n",
        "#####################################\n",
        "\n",
        "## Go through a similar process as before to see if there is a problem.\n",
        "## Locate at least one surprising piece of data, output it, and take a look at it.\n",
        "\n",
        "student_with_max_minutes = None\n",
        "max_minutes = 0\n",
        "\n",
        "for student, total_minutes in total_minutes_by_account.items():\n",
        "  if total_minutes > max_minutes:\n",
        "    max_minutes = total_minutes\n",
        "    student_with_max_minutes = student\n",
        "\n",
        "print(max_minutes)\n",
        "\n",
        "for engagement_record in paid_engagement_in_first_week:\n",
        "  if engagement_record['account_key'] == student_with_max_minutes:\n",
        "    print engagement_record"
      ],
      "execution_count": 36,
      "outputs": [
        {
          "output_type": "stream",
          "text": [
            "3564.7332645\n",
            "{'lessons_completed': 4, 'num_courses_visited': 4, 'total_minutes_visited': 850.519339666, 'projects_completed': 0, 'account_key': '163', 'utc_date': datetime.datetime(2015, 7, 9, 0, 0)}\n",
            "{'lessons_completed': 6, 'num_courses_visited': 6, 'total_minutes_visited': 872.633923334, 'projects_completed': 0, 'account_key': '163', 'utc_date': datetime.datetime(2015, 7, 10, 0, 0)}\n",
            "{'lessons_completed': 6, 'num_courses_visited': 2, 'total_minutes_visited': 777.018903666, 'projects_completed': 0, 'account_key': '163', 'utc_date': datetime.datetime(2015, 7, 11, 0, 0)}\n",
            "{'lessons_completed': 2, 'num_courses_visited': 1, 'total_minutes_visited': 294.568774, 'projects_completed': 0, 'account_key': '163', 'utc_date': datetime.datetime(2015, 7, 12, 0, 0)}\n",
            "{'lessons_completed': 1, 'num_courses_visited': 3, 'total_minutes_visited': 471.2139785, 'projects_completed': 0, 'account_key': '163', 'utc_date': datetime.datetime(2015, 7, 13, 0, 0)}\n",
            "{'lessons_completed': 1, 'num_courses_visited': 2, 'total_minutes_visited': 298.778345333, 'projects_completed': 0, 'account_key': '163', 'utc_date': datetime.datetime(2015, 7, 14, 0, 0)}\n",
            "{'lessons_completed': 0, 'num_courses_visited': 0, 'total_minutes_visited': 0.0, 'projects_completed': 0, 'account_key': '163', 'utc_date': datetime.datetime(2015, 7, 15, 0, 0)}\n"
          ],
          "name": "stdout"
        }
      ]
    },
    {
      "cell_type": "markdown",
      "metadata": {
        "id": "yCSfc1WjcxrC",
        "colab_type": "text"
      },
      "source": [
        "## Lessons Completed in First Week"
      ]
    },
    {
      "cell_type": "code",
      "metadata": {
        "id": "nlR7hacqcxrD",
        "colab_type": "code",
        "colab": {
          "base_uri": "https://localhost:8080/",
          "height": 84
        },
        "outputId": "7b8aa456-b789-42a6-b7a3-390a5e315d35"
      },
      "source": [
        "#####################################\n",
        "#                 9                 #\n",
        "#####################################\n",
        "\n",
        "## Adapt the code above to find the mean, standard deviation, minimum, and maximum for\n",
        "## the number of lessons completed by each student during the first week. Try creating\n",
        "## one or more functions to re-use the code above.\n",
        "\n",
        "total_lessons_completed_by_account = {}\n",
        "for account_key, engagement_for_student in engagement_by_account.items():\n",
        "    total_lessons_completed = 0\n",
        "    for engagement_record in engagement_for_student:\n",
        "        total_lessons_completed += engagement_record['lessons_completed']\n",
        "    total_lessons_completed_by_account[account_key] = total_lessons_completed\n",
        "\n",
        "import numpy as np\n",
        "\n",
        "total_lessons_completed = total_lessons_completed_by_account.values()\n",
        "print 'Mean:', np.mean(total_lessons_completed)\n",
        "print 'Standard deviation:', np.std(total_lessons_completed)\n",
        "print 'Minimum:', np.min(total_lessons_completed)\n",
        "print 'Maximum:', np.max(total_lessons_completed)"
      ],
      "execution_count": 37,
      "outputs": [
        {
          "output_type": "stream",
          "text": [
            "Mean: 1.636180904522613\n",
            "Standard deviation: 3.0025612998294227\n",
            "Minimum: 0\n",
            "Maximum: 36\n"
          ],
          "name": "stdout"
        }
      ]
    },
    {
      "cell_type": "markdown",
      "metadata": {
        "id": "DUNodk-0cxrG",
        "colab_type": "text"
      },
      "source": [
        "## Number of Visits in First Week"
      ]
    },
    {
      "cell_type": "code",
      "metadata": {
        "id": "6dSD8K5kcxrH",
        "colab_type": "code",
        "colab": {
          "base_uri": "https://localhost:8080/",
          "height": 84
        },
        "outputId": "5602456f-e14e-4416-b884-696994a08206"
      },
      "source": [
        "######################################\n",
        "#                 10                 #\n",
        "######################################\n",
        "\n",
        "## Find the mean, standard deviation, minimum, and maximum for the number of\n",
        "## days each student visits the classroom during the first week.\n",
        "\n",
        "for engagement_record in paid_engagement:\n",
        "  if engagement_record['num_courses_visited'] > 0:\n",
        "    engagement_record['has_visited'] = 1\n",
        "  else:\n",
        "    engagement_record['has_visited'] = 0\n",
        "\n",
        "total_days_visited_by_account = {}\n",
        "for account_key, engagement_for_student in engagement_by_account.items():\n",
        "    total_days_visited = 0\n",
        "    for engagement_record in engagement_for_student:\n",
        "        total_days_visited += engagement_record['has_visited']\n",
        "    total_days_visited_by_account[account_key] = total_days_visited\n",
        "\n",
        "import numpy as np\n",
        "\n",
        "total_days_visited = total_days_visited_by_account.values()\n",
        "print 'Mean:', np.mean(total_days_visited)\n",
        "print 'Standard deviation:', np.std(total_days_visited)\n",
        "print 'Minimum:', np.min(total_days_visited)\n",
        "print 'Maximum:', np.max(total_days_visited)"
      ],
      "execution_count": 41,
      "outputs": [
        {
          "output_type": "stream",
          "text": [
            "Mean: 2.8673366834170855\n",
            "Standard deviation: 2.2551980029196814\n",
            "Minimum: 0\n",
            "Maximum: 7\n"
          ],
          "name": "stdout"
        }
      ]
    },
    {
      "cell_type": "markdown",
      "metadata": {
        "id": "k5Gj_Wk5cxrb",
        "colab_type": "text"
      },
      "source": [
        "## Splitting out Passing Students"
      ]
    },
    {
      "cell_type": "code",
      "metadata": {
        "id": "AzeAde2acxrd",
        "colab_type": "code",
        "colab": {
          "base_uri": "https://localhost:8080/",
          "height": 50
        },
        "outputId": "285198cd-16b9-468e-d3ea-dbabbd960019"
      },
      "source": [
        "######################################\n",
        "#                 11                 #\n",
        "######################################\n",
        "\n",
        "## Create two lists of engagement data for paid students in the first week.\n",
        "## The first list should contain data for students who eventually pass the\n",
        "## subway project, and the second list should contain data for students\n",
        "## who do not.\n",
        "\n",
        "subway_project_lesson_keys = ['746169184', '3176718735']\n",
        "\n",
        "pass_subway_project = set()\n",
        "\n",
        "paid_submissions = remove_free_trial_cancels(non_udacity_submissions)\n",
        "\n",
        "for submission in paid_submissions:\n",
        "  project = submission['lesson_key']\n",
        "  rating = submission['assigned_rating']    \n",
        "\n",
        "  if ((project in subway_project_lesson_keys) and (rating == 'PASSED' or rating == 'DISTINCTION')):\n",
        "    pass_subway_project.add(submission['account_key'])\n",
        "\n",
        "passing_engagement = []\n",
        "non_passing_engagement =[]\n",
        "\n",
        "for engagement_record in paid_engagement_in_first_week:\n",
        "  if engagement_record['account_key'] in pass_subway_project:\n",
        "    passing_engagement.append(engagement_record)\n",
        "  else:\n",
        "    non_passing_engagement.append(engagement_record)\n",
        "\n",
        "print len(passing_engagement)\n",
        "print len(non_passing_engagement)"
      ],
      "execution_count": 45,
      "outputs": [
        {
          "output_type": "stream",
          "text": [
            "4527\n",
            "2392\n"
          ],
          "name": "stdout"
        }
      ]
    },
    {
      "cell_type": "markdown",
      "metadata": {
        "id": "V-YSmTHKcxro",
        "colab_type": "text"
      },
      "source": [
        "## Comparing the Two Student Groups"
      ]
    },
    {
      "cell_type": "code",
      "metadata": {
        "id": "R2egI6lHcxrz",
        "colab_type": "code",
        "colab": {
          "base_uri": "https://localhost:8080/",
          "height": 184
        },
        "outputId": "a703c01a-918b-4882-acef-4fad4030ad5c"
      },
      "source": [
        "######################################\n",
        "#                 12                 #\n",
        "######################################\n",
        "\n",
        "## Compute some metrics you're interested in and see how they differ for\n",
        "## students who pass the subway project vs. students who don't. A good\n",
        "## starting point would be the metrics we looked at earlier (minutes spent\n",
        "## in the classroom, lessons completed, and days visited).\n",
        "import numpy as np\n",
        "def describe_data(data):\n",
        "  print 'Mean:', np.mean(data)\n",
        "  print 'Standard deviation:', np.std(data)\n",
        "  print 'Minimum:', np.min(data)\n",
        "  print 'Maximum:', np.max(data)\n",
        "    \n",
        "pass_subway_project_by_account = defaultdict(list)\n",
        "for engagement_record in passing_engagement:\n",
        "  account_key = engagement_record['account_key']\n",
        "  pass_subway_project_by_account[account_key].append(engagement_record)\n",
        "\n",
        "non_pass_subway_project_by_account = defaultdict(list)\n",
        "for engagement_record in non_passing_engagement:\n",
        "    account_key = engagement_record['account_key']\n",
        "    non_pass_subway_project_by_account[account_key].append(engagement_record)\n",
        "\n",
        "total_minutes_pass_subway_project_by_account = {}\n",
        "for account_key, engagement_for_student in pass_subway_project_by_account.items():\n",
        "    pass_total_minutes = 0\n",
        "    for engagement_record in engagement_for_student :\n",
        "        pass_total_minutes += engagement_record['total_minutes_visited']\n",
        "    total_minutes_pass_subway_project_by_account[account_key] = pass_total_minutes\n",
        "\n",
        "pass_total_minutes = total_minutes_pass_subway_project_by_account.values()\n",
        "print describe_data(pass_total_minutes)\n",
        "\n",
        "total_minutes_non_pass_subway_project_by_account = {}\n",
        "for account_key, engagement_for_student in non_pass_subway_project_by_account.items():\n",
        "    non_pass_total_minutes = 0\n",
        "    for engagement_record in engagement_for_student :\n",
        "        non_pass_total_minutes += engagement_record['total_minutes_visited']\n",
        "    total_minutes_non_pass_subway_project_by_account[account_key] = non_pass_total_minutes\n",
        "\n",
        "non_pass_total_minutes = total_minutes_non_pass_subway_project_by_account.values()\n",
        "print describe_data(non_pass_total_minutes)\n"
      ],
      "execution_count": 62,
      "outputs": [
        {
          "output_type": "stream",
          "text": [
            "Mean: 394.58604648350865\n",
            "Standard deviation: 448.4995193265521\n",
            "Minimum: 0.0\n",
            "Maximum: 3564.7332644989997\n",
            "None\n",
            "Mean: 143.32647426675584\n",
            "Standard deviation: 269.5386190114951\n",
            "Minimum: 0.0\n",
            "Maximum: 1768.5227493319999\n",
            "None\n"
          ],
          "name": "stdout"
        }
      ]
    },
    {
      "cell_type": "code",
      "metadata": {
        "id": "7NK57msALJ6p",
        "colab_type": "code",
        "colab": {
          "base_uri": "https://localhost:8080/",
          "height": 184
        },
        "outputId": "0b2c3bf8-f4a3-4155-a24d-018790d29684"
      },
      "source": [
        "total_lessons_completed_by_pass_account = {}\n",
        "for account_key, engagement_for_student in pass_subway_project_by_account.items():\n",
        "  pass_total_lessons_completed = 0\n",
        "  for engagement_record in engagement_for_student:\n",
        "    pass_total_lessons_completed += engagement_record['lessons_completed']\n",
        "    total_lessons_completed_by_pass_account[account_key] = pass_total_lessons_completed\n",
        "\n",
        "pass_total_lessons_completed = total_lessons_completed_by_pass_account.values()\n",
        "print describe_data(pass_total_lessons_completed)\n",
        "\n",
        "total_lessons_completed_by_non_pass_account = {}\n",
        "for account_key, engagement_for_student in non_pass_subway_project_by_account.items():\n",
        "  non_pass_total_lessons_completed = 0\n",
        "  for engagement_record in engagement_for_student:\n",
        "    non_pass_total_lessons_completed += engagement_record['lessons_completed']\n",
        "    total_lessons_completed_by_non_pass_account[account_key] = non_pass_total_lessons_completed\n",
        "\n",
        "non_pass_total_lessons_completed = total_lessons_completed_by_non_pass_account.values()\n",
        "print describe_data(non_pass_total_lessons_completed)\n"
      ],
      "execution_count": 71,
      "outputs": [
        {
          "output_type": "stream",
          "text": [
            "Mean: 2.052550231839258\n",
            "Standard deviation: 3.1422270555779344\n",
            "Minimum: 0\n",
            "Maximum: 36\n",
            "None\n",
            "Mean: 0.8620689655172413\n",
            "Standard deviation: 2.5491599418312028\n",
            "Minimum: 0\n",
            "Maximum: 27\n",
            "None\n"
          ],
          "name": "stdout"
        }
      ]
    },
    {
      "cell_type": "code",
      "metadata": {
        "id": "sC2-18FmL8af",
        "colab_type": "code",
        "colab": {
          "base_uri": "https://localhost:8080/",
          "height": 184
        },
        "outputId": "fc5fdcda-04a6-4b8d-b806-9071184e81e3"
      },
      "source": [
        "total_visits_by_pass_account = {}\n",
        "for account_key, engagement_for_student in pass_subway_project_by_account.items():\n",
        "  pass_total_visits = 0\n",
        "  for engagement_record in engagement_for_student:\n",
        "    pass_total_visits += engagement_record['has_visited']\n",
        "    total_visits_by_pass_account[account_key] = pass_total_visits\n",
        "\n",
        "pass_total_visits = total_visits_by_pass_account.values()\n",
        "print describe_data(pass_total_visits)\n",
        "\n",
        "total_visits_by_non_pass_account = {}\n",
        "for account_key, engagement_for_student in non_pass_subway_project_by_account.items():\n",
        "  non_pass_total_visits = 0\n",
        "  for engagement_record in engagement_for_student:\n",
        "    non_pass_total_visits += engagement_record['has_visited']\n",
        "    total_visits_by_non_pass_account[account_key] = non_pass_total_visits\n",
        "\n",
        "non_pass_total_visits = total_visits_by_non_pass_account.values()\n",
        "print describe_data(non_pass_total_visits)"
      ],
      "execution_count": 69,
      "outputs": [
        {
          "output_type": "stream",
          "text": [
            "Mean: 3.384853168469861\n",
            "Standard deviation: 2.2588214709184595\n",
            "Minimum: 0\n",
            "Maximum: 7\n",
            "None\n",
            "Mean: 1.9051724137931034\n",
            "Standard deviation: 1.9057314413619049\n",
            "Minimum: 0\n",
            "Maximum: 7\n",
            "None\n"
          ],
          "name": "stdout"
        }
      ]
    },
    {
      "cell_type": "markdown",
      "metadata": {
        "id": "6rZNTk5DcxsH",
        "colab_type": "text"
      },
      "source": [
        "## Making Histograms"
      ]
    },
    {
      "cell_type": "code",
      "metadata": {
        "id": "9ZpHrdq0cxsJ",
        "colab_type": "code",
        "colab": {
          "base_uri": "https://localhost:8080/",
          "height": 336
        },
        "outputId": "de96bdb8-fbc9-4c3c-adee-9489ded7dd43"
      },
      "source": [
        "######################################\n",
        "#                 13                 #\n",
        "######################################\n",
        "\n",
        "## Make histograms of the three metrics we looked at earlier for both\n",
        "## students who passed the subway project and students who didn't. You\n",
        "## might also want to make histograms of any other metrics you examined.\n",
        "%pylab inline\n",
        "import matplotlib.pyplot as plt\n",
        "#plt.hist(pass_total_minutes)\n",
        "#plt.hist(non_pass_total_minutes)\n",
        "\n",
        "#plt.hist(pass_total_lessons_completed)\n",
        "#plt.hist(non_pass_total_lessons_completed)\n",
        "\n",
        "plt.hist(pass_total_visits)\n",
        "plt.hist(non_pass_total_visits)"
      ],
      "execution_count": 76,
      "outputs": [
        {
          "output_type": "stream",
          "text": [
            "Populating the interactive namespace from numpy and matplotlib\n"
          ],
          "name": "stdout"
        },
        {
          "output_type": "execute_result",
          "data": {
            "text/plain": [
              "(array([97., 90., 56.,  0., 41., 15.,  0., 24., 17.,  8.]),\n",
              " array([0. , 0.7, 1.4, 2.1, 2.8, 3.5, 4.2, 4.9, 5.6, 6.3, 7. ]),\n",
              " <a list of 10 Patch objects>)"
            ]
          },
          "metadata": {
            "tags": []
          },
          "execution_count": 76
        },
        {
          "output_type": "display_data",
          "data": {
            "image/png": "[encoded data removed]",
            "text/plain": [
              "<Figure size 432x288 with 1 Axes>"
            ]
          },
          "metadata": {
            "tags": [],
            "needs_background": "light"
          }
        }
      ]
    },
    {
      "cell_type": "markdown",
      "metadata": {
        "id": "zmM8ahfocxsR",
        "colab_type": "text"
      },
      "source": [
        "## Improving Plots and Sharing Findings"
      ]
    },
    {
      "cell_type": "code",
      "metadata": {
        "id": "diO2woe2cxsS",
        "colab_type": "code",
        "colab": {}
      },
      "source": [
        "######################################\n",
        "#                 14                 #\n",
        "######################################\n",
        "\n",
        "## Make a more polished version of at least one of your visualizations\n",
        "## from earlier. Try importing the seaborn library to make the visualization\n",
        "## look better, adding axis labels and a title, and changing one or more\n",
        "## arguments to the hist() function."
      ],
      "execution_count": null,
      "outputs": []
    }
  ]
}