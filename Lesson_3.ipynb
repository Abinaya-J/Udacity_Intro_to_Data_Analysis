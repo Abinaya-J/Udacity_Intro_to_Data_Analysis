{
  "nbformat": 4,
  "nbformat_minor": 0,
  "metadata": {
    "colab": {
      "name": "Lesson 3.ipynb",
      "provenance": [],
      "authorship_tag": "ABX9TyPViVbxXg6sSwwi/K2i3X3L",
      "include_colab_link": true
    },
    "kernelspec": {
      "name": "python3",
      "display_name": "Python 3"
    }
  },
  "cells": [
    {
      "cell_type": "markdown",
      "metadata": {
        "id": "view-in-github",
        "colab_type": "text"
      },
      "source": [
        "<a href=\"https://colab.research.google.com/github/Abinaya-J/Udacity_Intro_to_Data_Analysis/blob/master/Lesson_3.ipynb\" target=\"_parent\"><img src=\"https://colab.research.google.com/assets/colab-badge.svg\" alt=\"Open In Colab\"/></a>"
      ]
    },
    {
      "cell_type": "code",
      "metadata": {
        "id": "MuQEA-iUH4C2",
        "colab_type": "code",
        "colab": {}
      },
      "source": [
        "import numpy as np\n",
        "\n",
        "# Subway ridership for 5 stations on 10 different days\n",
        "ridership = np.array([\n",
        "    [   0,    0,    2,    5,    0],\n",
        "    [1478, 3877, 3674, 2328, 2539],\n",
        "    [1613, 4088, 3991, 6461, 2691],\n",
        "    [1560, 3392, 3826, 4787, 2613],\n",
        "    [1608, 4802, 3932, 4477, 2705],\n",
        "    [1576, 3933, 3909, 4979, 2685],\n",
        "    [  95,  229,  255,  496,  201],\n",
        "    [   2,    0,    1,   27,    0],\n",
        "    [1438, 3785, 3589, 4174, 2215],\n",
        "    [1342, 4043, 4009, 4665, 3033]\n",
        "])\n",
        "\n",
        "# Change False to True for each block of code to see what it does\n",
        "\n",
        "# Accessing elements\n",
        "if False:\n",
        "    print ridership[1, 3]\n",
        "    print ridership[1:3, 3:5]\n",
        "    print ridership[1, :]\n",
        "    \n",
        "# Vectorized operations on rows or columns\n",
        "if False:\n",
        "    print ridership[0, :] + ridership[1, :]\n",
        "    print ridership[:, 0] + ridership[:, 1]\n",
        "    \n",
        "# Vectorized operations on entire arrays\n",
        "if False:\n",
        "    a = np.array([[1, 2, 3], [4, 5, 6], [7, 8, 9]])\n",
        "    b = np.array([[1, 1, 1], [2, 2, 2], [3, 3, 3]])\n",
        "    print a + b\n",
        "\n",
        "\n",
        "def mean_riders_for_max_station(ridership):\n",
        "    '''\n",
        "    Fill in this function to find the station with the maximum riders on the\n",
        "    first day, then return the mean riders per day for that station. Also\n",
        "    return the mean ridership overall for comparsion.\n",
        "    \n",
        "    Hint: NumPy's argmax() function might be useful:\n",
        "    http://docs.scipy.org/doc/numpy/reference/generated/numpy.argmax.html\n",
        "    '''\n",
        "    first_day_max =ridership[0,:].argmax()\n",
        "    overall_mean = ridership.mean()  \n",
        "    mean_for_max = ridership[:,first_day_max].mean()\n",
        "    \n",
        "    return (overall_mean, mean_for_max)"
      ],
      "execution_count": null,
      "outputs": []
    }
  ]
}