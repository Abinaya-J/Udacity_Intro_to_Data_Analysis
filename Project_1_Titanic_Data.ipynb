{
  "nbformat": 4,
  "nbformat_minor": 0,
  "metadata": {
    "colab": {
      "name": "Project 1 - Titanic Data.ipynb",
      "provenance": [],
      "authorship_tag": "ABX9TyPm8LrEs2lo3TZlQ83rmQDZ",
      "include_colab_link": true
    },
    "kernelspec": {
      "name": "python3",
      "display_name": "Python 3"
    }
  },
  "cells": [
    {
      "cell_type": "markdown",
      "metadata": {
        "id": "view-in-github",
        "colab_type": "text"
      },
      "source": [
        "<a href=\"https://colab.research.google.com/github/Abinaya-J/Udacity_Intro_to_Data_Analysis/blob/master/Project_1_Titanic_Data.ipynb\" target=\"_parent\"><img src=\"https://colab.research.google.com/assets/colab-badge.svg\" alt=\"Open In Colab\"/></a>"
      ]
    },
    {
      "cell_type": "markdown",
      "metadata": {
        "id": "x89ZYTqrpZDd",
        "colab_type": "text"
      },
      "source": [
        "# **Introduction**\n",
        "The following project would be a summary of findings through an insight into data regarding the passengers onboard during the sinking of the Titanic.It would mainly focus on survival rates of passengers depending on their sex, age ,socio-economic status and various other factors that contributed to it. \n"
      ]
    },
    {
      "cell_type": "code",
      "metadata": {
        "id": "lZXh4VQhaZ9L",
        "colab_type": "code",
        "colab": {
          "base_uri": "https://localhost:8080/",
          "height": 54
        },
        "outputId": "5ba1065b-11ab-478f-de90-74342c9871fb"
      },
      "source": [
        "import csv\n",
        "titanic_data=[]\n",
        "with open('titanic_data.csv', 'rt') as f:\n",
        "  reader = csv.DictReader(f)\n",
        "  titanic_data = list(reader)\n",
        "\n",
        "print(titanic_data[0])"
      ],
      "execution_count": 1,
      "outputs": [
        {
          "output_type": "stream",
          "text": [
            "OrderedDict([('PassengerId', '1'), ('Survived', '0'), ('Pclass', '3'), ('Name', 'Braund, Mr. Owen Harris'), ('Sex', 'male'), ('Age', '22'), ('SibSp', '1'), ('Parch', '0'), ('Ticket', 'A/5 21171'), ('Fare', '7.25'), ('Cabin', ''), ('Embarked', 'S')])\n"
          ],
          "name": "stdout"
        }
      ]
    },
    {
      "cell_type": "markdown",
      "metadata": {
        "id": "Ms4iz3ax5P_s",
        "colab_type": "text"
      },
      "source": [
        " # **Data Wrangling**\n",
        "According to one row of the data obtained above, the data provided in each column can be described as follows:\n",
        "\n",
        "\n",
        "*   PassengerId = the unique number that identifies each passenger\n",
        "*   Survived = Value of \"1\" indicates the passenger survived and \"0\" indicates otherwise\n",
        "*   Pclass = Passenger class (1 = 1st class, 2 = 2nd, 3 = 3rd)\n",
        "*   Name = Name of passenger\n",
        "*   Sex = Sex of Passenger\n",
        "*   Age = Age of Passenger\n",
        "*   SibSp = Number of Siblings/Spouses of the passenger aboard\n",
        "*   Parch = Number of Parents/Children of the passenger aboard\n",
        "*   Ticket = Ticket number of Passenger\n",
        "*   Fare = Passenger ticket fare\n",
        "*   Cabin = Cabin passenger travelled in\n",
        "*   Embarked = Port of embarkation (C = Cherbourg, Q = Queenstown, S = Southampton)\n",
        "\n",
        "*Special Notes*\n",
        "1.   Pclass: proxy for the passenger's socio-economic status (1 = Upper, 2 = Middle ,3 = Lower) \n",
        "2.   Sibling: brother, sister, stepbrother, or stepsister of passenger aboard\n",
        "3.   Spouse: husband or wife of passenger aboard(mistresses and fiancees ignored)\n",
        "4.   Parent: mother or father of passenger aboard\n",
        "5.   Child: son, daughter, stepson, or stepdaughter of passenger aboard\n",
        "\n",
        "*Additional Potential Questions*\n",
        "1. Did having relatives aboard increase chance of survival?\n",
        "2. Was there any correlation between survival and the port of embarkation??\n",
        "3. Did the same sex always get higher preference despite the socio-economic class they belonged to?\n",
        "\n",
        "\n",
        "\n",
        "\n",
        "\n",
        "\n",
        "\n",
        "\n",
        "\n",
        "\n",
        "\n"
      ]
    },
    {
      "cell_type": "markdown",
      "metadata": {
        "id": "wHank2P8NoZo",
        "colab_type": "text"
      },
      "source": [
        " # **Data Cleaning**\n",
        "\n",
        "Firsly for duplicate entries to be removed I created a set contaning all unique PassengerId values which shows there aren't any since it has the same number of entries as in the original set of data.\n",
        "Also removing unnecessary columns helps data exploration so I thought the columns: Cabin,Name and Ticket weren't contributing much for the analysis and so deleted them.\n"
      ]
    },
    {
      "cell_type": "code",
      "metadata": {
        "id": "shDuFyeZnHbu",
        "colab_type": "code",
        "colab": {
          "base_uri": "https://localhost:8080/",
          "height": 50
        },
        "outputId": "285d0bdc-1bc6-45a0-bf00-eec21d6a2215"
      },
      "source": [
        "#Checking for duplicate entries\n",
        "\n",
        "print(len(titanic_data))\n",
        "\n",
        "unique_passenger_records= set()\n",
        "for passenger_record in titanic_data:\n",
        "  unique_passenger_records.add(passenger_record['PassengerId'])\n",
        "print(len(unique_passenger_records))\n"
      ],
      "execution_count": 2,
      "outputs": [
        {
          "output_type": "stream",
          "text": [
            "891\n",
            "891\n"
          ],
          "name": "stdout"
        }
      ]
    },
    {
      "cell_type": "code",
      "metadata": {
        "id": "zeDRIyuHzcsy",
        "colab_type": "code",
        "colab": {
          "base_uri": "https://localhost:8080/",
          "height": 54
        },
        "outputId": "6b09efb0-4e83-42e8-98dd-f671bc23dc9f"
      },
      "source": [
        "#Removing unnecessary columns\n",
        "\n",
        "for passenger_record in titanic_data:\n",
        "  passenger_record.pop('Cabin',None)\n",
        "  passenger_record.pop('Ticket',None)\n",
        "  passenger_record.pop('Fare',None)\n",
        "\n",
        "print(titanic_data[1])"
      ],
      "execution_count": 3,
      "outputs": [
        {
          "output_type": "stream",
          "text": [
            "OrderedDict([('PassengerId', '2'), ('Survived', '1'), ('Pclass', '1'), ('Name', 'Cumings, Mrs. John Bradley (Florence Briggs Thayer)'), ('Sex', 'female'), ('Age', '38'), ('SibSp', '1'), ('Parch', '0'), ('Embarked', 'C')])\n"
          ],
          "name": "stdout"
        }
      ]
    },
    {
      "cell_type": "markdown",
      "metadata": {
        "id": "oulUJvzF0Cyb",
        "colab_type": "text"
      },
      "source": [
        " # **Data Exploration**\n",
        " This phase of the project would look into code used to identify factors that contributed to higher survival rates as mentioned in the introduction.It would also identify some interesting statistical facts from the data, for example: Who was the youngest survivor? \n",
        "Before carrying out the analysis I decided to use the pandas library to convert the data in the csv file into a dataframe to make it more accesible and visual.Unnecessary columns are also removed.\n",
        "I have also imported the matplotlib library to represent results obtained through diagrams.Using the isnull function helps us spot missing values in all the respective columns in the dataframe.\n",
        "\n",
        "\n"
      ]
    },
    {
      "cell_type": "code",
      "metadata": {
        "id": "rZDgh65yi2IR",
        "colab_type": "code",
        "colab": {
          "base_uri": "https://localhost:8080/",
          "height": 138
        },
        "outputId": "003b920a-c7de-487f-9908-22732fa7c87e"
      },
      "source": [
        "import pandas as pd\n",
        "%pylab inline\n",
        "import matplotlib.pyplot as plt\n",
        "import seaborn as sns"
      ],
      "execution_count": 4,
      "outputs": [
        {
          "output_type": "stream",
          "text": [
            "Populating the interactive namespace from numpy and matplotlib\n"
          ],
          "name": "stdout"
        },
        {
          "output_type": "stream",
          "text": [
            "/usr/local/lib/python3.6/dist-packages/IPython/core/magics/pylab.py:161: UserWarning: pylab import has clobbered these variables: ['f']\n",
            "`%matplotlib` prevents importing * from pylab and numpy\n",
            "  \"\\n`%matplotlib` prevents importing * from pylab and numpy\"\n",
            "/usr/local/lib/python3.6/dist-packages/statsmodels/tools/_testing.py:19: FutureWarning: pandas.util.testing is deprecated. Use the functions in the public API at pandas.testing instead.\n",
            "  import pandas.util.testing as tm\n"
          ],
          "name": "stderr"
        }
      ]
    },
    {
      "cell_type": "code",
      "metadata": {
        "id": "xmRGhRWZc7g6",
        "colab_type": "code",
        "colab": {
          "base_uri": "https://localhost:8080/",
          "height": 151
        },
        "outputId": "22856c1e-8aae-42eb-eb12-31c868b71ebd"
      },
      "source": [
        "#Representing the data in a dataframe\n",
        "\n",
        "titanic_df = pd.read_csv('titanic_data.csv')\n",
        "\n",
        "print(titanic_df.head())"
      ],
      "execution_count": 5,
      "outputs": [
        {
          "output_type": "stream",
          "text": [
            "   PassengerId  Survived  Pclass  ...     Fare Cabin  Embarked\n",
            "0            1         0       3  ...   7.2500   NaN         S\n",
            "1            2         1       1  ...  71.2833   C85         C\n",
            "2            3         1       3  ...   7.9250   NaN         S\n",
            "3            4         1       1  ...  53.1000  C123         S\n",
            "4            5         0       3  ...   8.0500   NaN         S\n",
            "\n",
            "[5 rows x 12 columns]\n"
          ],
          "name": "stdout"
        }
      ]
    },
    {
      "cell_type": "code",
      "metadata": {
        "id": "N39XJqwMeHn5",
        "colab_type": "code",
        "colab": {
          "base_uri": "https://localhost:8080/",
          "height": 151
        },
        "outputId": "dcbc9bf6-eb51-4c43-92c3-01cc36d195fc"
      },
      "source": [
        "#Removing unnecessary columns\n",
        "\n",
        "titanic_df_new = titanic_df.drop(['PassengerId','Ticket','Cabin','Fare'], axis=1)\n",
        "print(titanic_df_new.head())"
      ],
      "execution_count": 6,
      "outputs": [
        {
          "output_type": "stream",
          "text": [
            "   Survived  Pclass  ... Parch Embarked\n",
            "0         0       3  ...     0        S\n",
            "1         1       1  ...     0        C\n",
            "2         1       3  ...     0        S\n",
            "3         1       1  ...     0        S\n",
            "4         0       3  ...     0        S\n",
            "\n",
            "[5 rows x 8 columns]\n"
          ],
          "name": "stdout"
        }
      ]
    },
    {
      "cell_type": "code",
      "metadata": {
        "id": "M-hIO-E_jGPX",
        "colab_type": "code",
        "colab": {
          "base_uri": "https://localhost:8080/",
          "height": 168
        },
        "outputId": "30e8a00b-6400-438e-eefc-6bc7e16bbc8c"
      },
      "source": [
        "#Finding the number of rows with missing data in each column\n",
        "\n",
        "titanic_df_new.isnull().sum()"
      ],
      "execution_count": 7,
      "outputs": [
        {
          "output_type": "execute_result",
          "data": {
            "text/plain": [
              "Survived      0\n",
              "Pclass        0\n",
              "Name          0\n",
              "Sex           0\n",
              "Age         177\n",
              "SibSp         0\n",
              "Parch         0\n",
              "Embarked      2\n",
              "dtype: int64"
            ]
          },
          "metadata": {
            "tags": []
          },
          "execution_count": 7
        }
      ]
    },
    {
      "cell_type": "markdown",
      "metadata": {
        "id": "S_QFnrxVdgsn",
        "colab_type": "text"
      },
      "source": [
        "**What percentage of the total number of passengers survived?**"
      ]
    },
    {
      "cell_type": "code",
      "metadata": {
        "id": "HFbHnw5E098p",
        "colab_type": "code",
        "colab": {
          "base_uri": "https://localhost:8080/",
          "height": 67
        },
        "outputId": "a25bba81-342c-4eef-d5d5-b565e6dd8054"
      },
      "source": [
        "#Finding the total number of rows which contain the value '1' in the column 'Survived' to find how many survived altogether\n",
        "\n",
        "survived = titanic_df_new['Survived']== True\n",
        "non_survived = titanic_df_new['Survived']== False\n",
        "\n",
        "print('Number of passengers who survived: {}'.format(survived.sum()))\n",
        "print('Number of passengers who did not survive: {}'.format(non_survived.sum()))\n",
        "\n",
        "percent_survived =(survived.sum()/891) *100\n",
        "print('Percentage of passengers who survived: {} %'.format(percent_survived))"
      ],
      "execution_count": 8,
      "outputs": [
        {
          "output_type": "stream",
          "text": [
            "Number of passengers who survived: 342\n",
            "Number of passengers who did not survive: 549\n",
            "Percentage of passengers who survived: 38.38383838383838 %\n"
          ],
          "name": "stdout"
        }
      ]
    },
    {
      "cell_type": "code",
      "metadata": {
        "id": "zVXnouAIlabD",
        "colab_type": "code",
        "colab": {
          "base_uri": "https://localhost:8080/",
          "height": 298
        },
        "outputId": "77bbcc16-7bda-4f41-a3a5-2f941f5d53a7"
      },
      "source": [
        "names=['Survivors','Non-Survivors']\n",
        "values=[survived.sum(),non_survived.sum()]\n",
        "plt.bar(names,values)\n",
        "plt.title('Number of survivors')"
      ],
      "execution_count": 9,
      "outputs": [
        {
          "output_type": "execute_result",
          "data": {
            "text/plain": [
              "Text(0.5, 1.0, 'Number of survivors')"
            ]
          },
          "metadata": {
            "tags": []
          },
          "execution_count": 9
        },
        {
          "output_type": "display_data",
          "data": {
            "image/png": "[encoded data removed]",
            "text/plain": [
              "<Figure size 432x288 with 1 Axes>"
            ]
          },
          "metadata": {
            "tags": [],
            "needs_background": "light"
          }
        }
      ]
    },
    {
      "cell_type": "markdown",
      "metadata": {
        "id": "Aq4kfXRRv28u",
        "colab_type": "text"
      },
      "source": [
        "**Did survival rates depend on the sex of the passenger?**\n",
        "\n"
      ]
    },
    {
      "cell_type": "code",
      "metadata": {
        "id": "j5XGr8ebgYsQ",
        "colab_type": "code",
        "colab": {
          "base_uri": "https://localhost:8080/",
          "height": 118
        },
        "outputId": "08381ddc-c2ec-4505-ecba-70d6be046f26"
      },
      "source": [
        "fs= titanic_df_new.groupby(['Survived', 'Sex']).size()\n",
        "print(fs)"
      ],
      "execution_count": 10,
      "outputs": [
        {
          "output_type": "stream",
          "text": [
            "Survived  Sex   \n",
            "0         female     81\n",
            "          male      468\n",
            "1         female    233\n",
            "          male      109\n",
            "dtype: int64\n"
          ],
          "name": "stdout"
        }
      ]
    },
    {
      "cell_type": "code",
      "metadata": {
        "id": "zrHdodCvWUO2",
        "colab_type": "code",
        "colab": {
          "base_uri": "https://localhost:8080/",
          "height": 67
        },
        "outputId": "2a1c0452-751b-480b-9bab-ad3ff9988ae1"
      },
      "source": [
        "#Checking the number of rows that meet two conditions:\n",
        "   #contain the value '1' in the 'Survived' column\n",
        "   #have either 'female' or 'male' in the 'Sex' column\n",
        "\n",
        "female_survived = titanic_df_new[survived]['Sex']=='female'\n",
        "male_survived = titanic_df_new[survived]['Sex']=='male'\n",
        "\n",
        "print('Number of female passengers who survived: {}'.format(female_survived.sum()))\n",
        "print('Number of male passengers who survived: {}'.format(male_survived.sum()))\n",
        "\n",
        "percent_female_survived = (female_survived.sum()/survived.sum()) *100\n",
        "print('{}% of the passengers who survived were female.'.format(percent_female_survived))"
      ],
      "execution_count": 11,
      "outputs": [
        {
          "output_type": "stream",
          "text": [
            "Number of female passengers who survived: 233\n",
            "Number of male passengers who survived: 109\n",
            "68.12865497076024% of the passengers who survived were female.\n"
          ],
          "name": "stdout"
        }
      ]
    },
    {
      "cell_type": "code",
      "metadata": {
        "id": "8xbOk8BIHBeR",
        "colab_type": "code",
        "colab": {
          "base_uri": "https://localhost:8080/",
          "height": 298
        },
        "outputId": "119383f1-cb54-4b38-a5b0-8054cb08552e"
      },
      "source": [
        "names=['Female Survivors',' Male Survivors']\n",
        "values=[female_survived.sum(),male_survived.sum()]\n",
        "plt.bar(names,values)\n",
        "plt.title('Number of female survivors')"
      ],
      "execution_count": 12,
      "outputs": [
        {
          "output_type": "execute_result",
          "data": {
            "text/plain": [
              "Text(0.5, 1.0, 'Number of female survivors')"
            ]
          },
          "metadata": {
            "tags": []
          },
          "execution_count": 12
        },
        {
          "output_type": "display_data",
          "data": {
            "image/png": "[encoded data removed]",
            "text/plain": [
              "<Figure size 432x288 with 1 Axes>"
            ]
          },
          "metadata": {
            "tags": [],
            "needs_background": "light"
          }
        }
      ]
    },
    {
      "cell_type": "markdown",
      "metadata": {
        "id": "DCK7ILttvV51",
        "colab_type": "text"
      },
      "source": [
        "**Who were the youngest and oldest survivors and how old were they?**\n",
        "\n"
      ]
    },
    {
      "cell_type": "code",
      "metadata": {
        "id": "qZgoOAsz860A",
        "colab_type": "code",
        "colab": {
          "base_uri": "https://localhost:8080/",
          "height": 50
        },
        "outputId": "449b5602-7faf-4d5f-9b6c-e9d7cc730c15"
      },
      "source": [
        "#The 'argmin' or 'argmax' function returns the row number with the minimum/maximum age value\n",
        "#The 'iloc' function then locates the row, identifies the column given and returns the entry in it along the respective row number\n",
        "\n",
        "youngest_survivor = titanic_df_new[survived]['Age'].argmin()\n",
        "youngest_survivor_name = titanic_df_new[survived].iloc[youngest_survivor]['Name']\n",
        "youngest_survivor_age= titanic_df_new[survived].iloc[youngest_survivor]['Age']\n",
        "print('The youngest survivor {} was {} years old.'.format(youngest_survivor_name,youngest_survivor_age))\n",
        "\n",
        "oldest_survivor = titanic_df_new[survived]['Age'].argmax()\n",
        "oldest_survivor_name = titanic_df_new[survived].iloc[oldest_survivor]['Name']\n",
        "oldest_survivor_age= titanic_df_new[survived].iloc[oldest_survivor]['Age']\n",
        "print('The oldest survivor {} was {} years old.'.format(oldest_survivor_name,oldest_survivor_age))"
      ],
      "execution_count": 13,
      "outputs": [
        {
          "output_type": "stream",
          "text": [
            "The youngest survivor Thomas, Master. Assad Alexander was 0.42 years old.\n",
            "The oldest survivor Barkworth, Mr. Algernon Henry Wilson was 80.0 years old.\n"
          ],
          "name": "stdout"
        }
      ]
    },
    {
      "cell_type": "markdown",
      "metadata": {
        "id": "dwHe13RmvhZs",
        "colab_type": "text"
      },
      "source": [
        "**Who were the youngest and oldest non-survivors and how old were they?**\n",
        "\n"
      ]
    },
    {
      "cell_type": "code",
      "metadata": {
        "id": "W8RRWMsKbxfH",
        "colab_type": "code",
        "colab": {
          "base_uri": "https://localhost:8080/",
          "height": 50
        },
        "outputId": "e8360505-3c1e-49e0-e571-10e68d8c3367"
      },
      "source": [
        "youngest_non_survivor = titanic_df_new[non_survived]['Age'].argmin()\n",
        "youngest_non_survivor_name = titanic_df_new[non_survived].iloc[youngest_non_survivor]['Name']\n",
        "youngest_non_survivor_age= titanic_df_new[non_survived].iloc[youngest_non_survivor]['Age']\n",
        "print('The youngest non-survivor {} was {} years old.'.format(youngest_non_survivor_name,youngest_non_survivor_age))\n",
        "\n",
        "oldest_non_survivor = titanic_df_new[non_survived]['Age'].argmax()\n",
        "oldest_non_survivor_name = titanic_df_new[non_survived].iloc[oldest_non_survivor]['Name']\n",
        "oldest_non_survivor_age= titanic_df_new[non_survived].iloc[oldest_non_survivor]['Age']\n",
        "print('The oldest non-survivor {} was {} years old.'.format(oldest_non_survivor_name,oldest_non_survivor_age))"
      ],
      "execution_count": 14,
      "outputs": [
        {
          "output_type": "stream",
          "text": [
            "The youngest non-survivor Panula, Master. Eino Viljami was 1.0 years old.\n",
            "The oldest non-survivor Svensson, Mr. Johan was 74.0 years old.\n"
          ],
          "name": "stdout"
        }
      ]
    },
    {
      "cell_type": "markdown",
      "metadata": {
        "id": "BoLoh_02wUAc",
        "colab_type": "text"
      },
      "source": [
        "**Which age group consisted of the largest number of survivors?**\n"
      ]
    },
    {
      "cell_type": "code",
      "metadata": {
        "id": "yZTbg8CuFcpR",
        "colab_type": "code",
        "colab": {
          "base_uri": "https://localhost:8080/",
          "height": 84
        },
        "outputId": "b6795a7d-711e-449a-b487-cee14aa7c178"
      },
      "source": [
        "#The sum function is used to find the total number of passengers who survived and satisfy the condition on the age value\n",
        "#Then the corresponding values are subtracted to find how many fall in each interval \n",
        "\n",
        "below_12 = titanic_df_new[survived]['Age']<=12\n",
        "below_19 = titanic_df_new[survived]['Age']<=19\n",
        "below_59 = titanic_df_new[survived]['Age']<=59\n",
        "below_150 = titanic_df_new[survived]['Age']<=150\n",
        "\n",
        "children_survived = below_12.sum()\n",
        "teenagers_survived = below_19.sum() - below_12.sum()\n",
        "adults_survived = below_59.sum() - (below_19.sum())\n",
        "elderly_survived = below_150.sum() - (below_59.sum())\n",
        "\n",
        "print('Number of children who survived: {}'.format(children_survived))\n",
        "print('Number of teenagers who survived: {}'.format(teenagers_survived))\n",
        "print('Number of adults who survived: {}'.format(adults_survived))\n",
        "print('Number of elderly who survived: {}'.format(elderly_survived))"
      ],
      "execution_count": 15,
      "outputs": [
        {
          "output_type": "stream",
          "text": [
            "Number of children who survived: 40\n",
            "Number of teenagers who survived: 39\n",
            "Number of adults who survived: 204\n",
            "Number of elderly who survived: 7\n"
          ],
          "name": "stdout"
        }
      ]
    },
    {
      "cell_type": "markdown",
      "metadata": {
        "id": "9lqG1Tem3ZZH",
        "colab_type": "text"
      },
      "source": [
        "**Which age group had the highest survival rate? Did age have any significant effect on the chance of survival?**"
      ]
    },
    {
      "cell_type": "code",
      "metadata": {
        "id": "YHacZVA15XYR",
        "colab_type": "code",
        "colab": {
          "base_uri": "https://localhost:8080/",
          "height": 298
        },
        "outputId": "0da6f951-b01d-4c70-9cd9-db7db8fd064a"
      },
      "source": [
        "below_12_all = titanic_df_new['Age']<=12\n",
        "below_19_all= titanic_df_new['Age']<=19\n",
        "below_59_all= titanic_df_new['Age']<=59\n",
        "below_150_all = titanic_df_new['Age']<=150\n",
        "\n",
        "children_total = below_12_all.sum()\n",
        "teenagers_total = below_19_all.sum() - below_12_all.sum()\n",
        "adults_total = below_59_all.sum() - (below_19_all.sum())\n",
        "elderly_total = below_150_all.sum() - (below_59_all.sum())\n",
        "\n",
        "children_sr = (children_survived/children_total)*100\n",
        "teenager_sr = (teenagers_survived/teenagers_total)*100\n",
        "adults_sr = (adults_survived /adults_total)*100\n",
        "elderly_sr = (elderly_survived/elderly_total)*100\n",
        "\n",
        "names=['Children',' Teenagers','Adults','Elderly']\n",
        "values=[children_sr,teenager_sr,adults_sr,elderly_sr]\n",
        "plt.bar(names,values)\n",
        "plt.title('Survival rates according to age groups')"
      ],
      "execution_count": 16,
      "outputs": [
        {
          "output_type": "execute_result",
          "data": {
            "text/plain": [
              "Text(0.5, 1.0, 'Survival rates according to age groups')"
            ]
          },
          "metadata": {
            "tags": []
          },
          "execution_count": 16
        },
        {
          "output_type": "display_data",
          "data": {
            "image/png": "[encoded data removed]",
            "text/plain": [
              "<Figure size 432x288 with 1 Axes>"
            ]
          },
          "metadata": {
            "tags": [],
            "needs_background": "light"
          }
        }
      ]
    },
    {
      "cell_type": "markdown",
      "metadata": {
        "id": "Dr9zMkebG5qh",
        "colab_type": "text"
      },
      "source": [
        "**Which socio-economic group had the highest number of survivors?**"
      ]
    },
    {
      "cell_type": "code",
      "metadata": {
        "id": "GGc692Dgk4wy",
        "colab_type": "code",
        "colab": {
          "base_uri": "https://localhost:8080/",
          "height": 34
        },
        "outputId": "cfc671c5-71c1-44d4-f51a-db8a9c3a8eee"
      },
      "source": [
        "#This function groups all records by which 'Pclass' the belong to and then the 'size' argument finds the number of records it contains\n",
        "\n",
        "def survival(Pclass):\n",
        "  return titanic_df_new.groupby(['Pclass','Survived']).size()[Pclass,1].astype('float')\n",
        "\n",
        "print('Out of all passengers who survived, {} belonged to the upper class , {} belonged to the middle class and {} belonged to the lower class.'.format(survival(1),survival(2),survival(3)))"
      ],
      "execution_count": 17,
      "outputs": [
        {
          "output_type": "stream",
          "text": [
            "Out of all passengers who survived, 136.0 belonged to the upper class , 87.0 belonged to the middle class and 119.0 belonged to the lower class.\n"
          ],
          "name": "stdout"
        }
      ]
    },
    {
      "cell_type": "code",
      "metadata": {
        "id": "S3kPEJDxmQh_",
        "colab_type": "code",
        "colab": {
          "base_uri": "https://localhost:8080/",
          "height": 298
        },
        "outputId": "5255edda-7310-4aa7-83f4-682497f2f1a0"
      },
      "source": [
        "names=['Upper class',' Middle class','Lower class']\n",
        "values=[survival(1),survival(2),survival(3)]\n",
        "plt.bar(names,values)\n",
        "plt.title('Number of survivors in each socio-economic class')"
      ],
      "execution_count": 18,
      "outputs": [
        {
          "output_type": "execute_result",
          "data": {
            "text/plain": [
              "Text(0.5, 1.0, 'Number of survivors in each socio-economic class')"
            ]
          },
          "metadata": {
            "tags": []
          },
          "execution_count": 18
        },
        {
          "output_type": "display_data",
          "data": {
            "image/png": "[encoded data removed]",
            "text/plain": [
              "<Figure size 432x288 with 1 Axes>"
            ]
          },
          "metadata": {
            "tags": [],
            "needs_background": "light"
          }
        }
      ]
    },
    {
      "cell_type": "markdown",
      "metadata": {
        "id": "j0_wpjbSn3zG",
        "colab_type": "text"
      },
      "source": [
        "**Did females still have a higher survival rate among each socio-economic class?**"
      ]
    },
    {
      "cell_type": "code",
      "metadata": {
        "id": "trGPf_tDpqTg",
        "colab_type": "code",
        "colab": {
          "base_uri": "https://localhost:8080/",
          "height": 50
        },
        "outputId": "4382e8ce-6bb3-4eca-d245-7789d1cc2015"
      },
      "source": [
        "#The above function was modified to include the 'Sex' column with the condition for it to be 'female' to see how many females survived in each 'Pclass'\n",
        "\n",
        "def survival_female(Pclass):\n",
        "  return titanic_df_new.groupby(['Pclass','Survived','Sex']).size()[Pclass,1,'female'].astype('float')\n",
        "\n",
        "print( '{} % of Upper class citizens who survived were females'.format((survival_female(1)/survival(1)) *100))\n",
        "\n",
        "print('Similarly {} % in the Middle class and {} % in the Lower class'.format(((survival_female(2)/survival(2)) *100), ((survival_female(3)/survival(3)) *100)))"
      ],
      "execution_count": 19,
      "outputs": [
        {
          "output_type": "stream",
          "text": [
            "66.91176470588235 % of Upper class citizens who survived were females\n",
            "Similarly 80.45977011494253 % in the Middle class and 60.50420168067227 % in the Lower class\n"
          ],
          "name": "stdout"
        }
      ]
    },
    {
      "cell_type": "markdown",
      "metadata": {
        "id": "wSQzCw1O7n-T",
        "colab_type": "text"
      },
      "source": [
        "**Which socio economic class had the highest survival rates?**"
      ]
    },
    {
      "cell_type": "code",
      "metadata": {
        "id": "ituLbLp47icQ",
        "colab_type": "code",
        "colab": {
          "base_uri": "https://localhost:8080/",
          "height": 67
        },
        "outputId": "4ba253f5-e1ba-42b7-8550-870c26df91c1"
      },
      "source": [
        "#The 'total' function helps find how many passengers were in each of the socio-economic classes.Both the survival and total functions were used\n",
        "#to find the percentage of survivors in each Pclass\n",
        "\n",
        "def total(Pclass):\n",
        "  return titanic_df_new.groupby(['Pclass']).size()[Pclass].astype('float')\n",
        "\n",
        "Pclass1_sr = (survival(1)/total(1))*100\n",
        "Pclass2_sr = (survival(2)/total(2))*100\n",
        "Pclass3_sr = (survival(3)/total(3))*100\n",
        "\n",
        "print('{} % of upper class citizens survived'.format(Pclass1_sr))\n",
        "print('{} % of middle class citizens survived'.format(Pclass2_sr))\n",
        "print('{} % of lower class citizens survived'.format(Pclass3_sr))"
      ],
      "execution_count": 20,
      "outputs": [
        {
          "output_type": "stream",
          "text": [
            "62.96296296296296 % of upper class citizens survived\n",
            "47.28260869565217 % of middle class citizens survived\n",
            "24.236252545824847 % of lower class citizens survived\n"
          ],
          "name": "stdout"
        }
      ]
    },
    {
      "cell_type": "markdown",
      "metadata": {
        "id": "2NZENKJLn2MJ",
        "colab_type": "text"
      },
      "source": [
        "**Did the port of embarkation contribute to the passenger's chance of survival?**"
      ]
    },
    {
      "cell_type": "code",
      "metadata": {
        "id": "V7aMfbsrmd6n",
        "colab_type": "code",
        "colab": {
          "base_uri": "https://localhost:8080/",
          "height": 34
        },
        "outputId": "fa0fc9a7-7352-4776-b598-f8b980eb6c81"
      },
      "source": [
        "#The sum function is used to find the total number of passengers who survived according to their port of embarkation \n",
        "\n",
        "Port_C_s= titanic_df_new[survived]['Embarked']=='C'\n",
        "Port_S_s= titanic_df_new[survived]['Embarked']=='S'\n",
        "Port_Q_s= titanic_df_new[survived]['Embarked']=='Q'\n",
        "\n",
        "print('Out of all passengers who survived, {} were to be embarked at Cherbourg , {} were to be embarked at Southhampton and {} were to be embarked at Queenstown.'.format(Port_C_s.sum(),Port_S_s.sum(),Port_Q_s.sum()))"
      ],
      "execution_count": 21,
      "outputs": [
        {
          "output_type": "stream",
          "text": [
            "Out of all passengers who survived, 93 were to be embarked at Cherbourg , 217 were to be embarked at Southhampton and 30 were to be embarked at Queenstown.\n"
          ],
          "name": "stdout"
        }
      ]
    },
    {
      "cell_type": "code",
      "metadata": {
        "id": "bQk_Ct-8IMIk",
        "colab_type": "code",
        "colab": {
          "base_uri": "https://localhost:8080/",
          "height": 298
        },
        "outputId": "57b63555-2da9-4b2d-dfdd-eefa4f703df3"
      },
      "source": [
        "names=['Port Southhampton',' Port Cherbourg','Port Queenstown']\n",
        "values=[Port_S_s.sum(),Port_C_s.sum(),Port_Q_s.sum()]\n",
        "plt.bar(names,values)\n",
        "plt.title('Number of survivors according to their port of embarkation')"
      ],
      "execution_count": 22,
      "outputs": [
        {
          "output_type": "execute_result",
          "data": {
            "text/plain": [
              "Text(0.5, 1.0, 'Number of survivors according to their port of embarkation')"
            ]
          },
          "metadata": {
            "tags": []
          },
          "execution_count": 22
        },
        {
          "output_type": "display_data",
          "data": {
            "image/png": "[encoded data removed]",
            "text/plain": [
              "<Figure size 432x288 with 1 Axes>"
            ]
          },
          "metadata": {
            "tags": [],
            "needs_background": "light"
          }
        }
      ]
    },
    {
      "cell_type": "markdown",
      "metadata": {
        "id": "gCuwB_0zQKvl",
        "colab_type": "text"
      },
      "source": [
        "**Did having relatives aboard increase chance of survival?**"
      ]
    },
    {
      "cell_type": "code",
      "metadata": {
        "id": "Zl8iWU1Hg-Af",
        "colab_type": "code",
        "colab": {}
      },
      "source": [
        "data= titanic_df_new.groupby(['Parch', 'SibSp']).size()\n",
        "print(data)"
      ],
      "execution_count": null,
      "outputs": []
    },
    {
      "cell_type": "code",
      "metadata": {
        "id": "IfgiJWWCMVZi",
        "colab_type": "code",
        "colab": {
          "base_uri": "https://localhost:8080/",
          "height": 202
        },
        "outputId": "ab460ae5-c821-4975-ab22-eb45836d2444"
      },
      "source": [
        "#The 'count' function is used to get the sum of non-null values that satisy all conditions specified on respective columns\n",
        "\n",
        "with_relatives=titanic_df_new[(titanic_df_new.Parch!=0)&(titanic_df_new.SibSp != 0)].count()\n",
        "print(with_relatives)\n",
        "\n",
        "with_relatives_survived =titanic_df_new[(titanic_df_new.Parch!=0) & (titanic_df_new.SibSp != 0)]['Survived'].sum()\n",
        "print(with_relatives_survived)\n",
        "\n",
        "print('{} % of passengers with relatives aboard survived'.format((with_relatives_survived/142)*100))"
      ],
      "execution_count": 32,
      "outputs": [
        {
          "output_type": "stream",
          "text": [
            "Survived    142\n",
            "Pclass      142\n",
            "Name        142\n",
            "Sex         142\n",
            "Age         126\n",
            "SibSp       142\n",
            "Parch       142\n",
            "Embarked    142\n",
            "dtype: int64\n",
            "62\n",
            "43.66197183098591 % of passengers with relatives aboard survived\n"
          ],
          "name": "stdout"
        }
      ]
    },
    {
      "cell_type": "code",
      "metadata": {
        "id": "k8m5MzFCW8uj",
        "colab_type": "code",
        "colab": {
          "base_uri": "https://localhost:8080/",
          "height": 34
        },
        "outputId": "6aae42eb-67e1-4c20-e499-278def638f68"
      },
      "source": [
        "without_relatives=titanic_df_new[(titanic_df_new.Parch==0) & (titanic_df_new.SibSp == 0)].count()\n",
        "\n",
        "without_relatives_survived =titanic_df_new[(titanic_df_new.Parch==0) & (titanic_df_new.SibSp == 0)]['Survived'].sum()\n",
        "\n",
        "print('{} % of passengers without relatives aboard survived'.format((without_relatives_survived/537)*100))"
      ],
      "execution_count": null,
      "outputs": [
        {
          "output_type": "stream",
          "text": [
            "30.353817504655495 % of passengers without relatives aboard survived\n"
          ],
          "name": "stdout"
        }
      ]
    },
    {
      "cell_type": "markdown",
      "metadata": {
        "id": "VvnywEnMAzAm",
        "colab_type": "text"
      },
      "source": [
        "**Were there nannies present? Did children with nannies fare better in terms of survival?**"
      ]
    },
    {
      "cell_type": "code",
      "metadata": {
        "id": "QMGH1DNiwmjn",
        "colab_type": "code",
        "colab": {
          "base_uri": "https://localhost:8080/",
          "height": 168
        },
        "outputId": "0334a3ae-f838-43f3-84dc-7fcfd7f6bc13"
      },
      "source": [
        "#The 'count' function is used to get the sum of non-null values that satisy all conditions specified on respective columns\n",
        "\n",
        "children_with_nannies = titanic_df_new[(titanic_df_new.Parch==0)  & (titanic_df_new.SibSp==0) & (titanic_df_new.Age <= 18)].count()\n",
        "print(children_with_nannies)"
      ],
      "execution_count": 26,
      "outputs": [
        {
          "output_type": "stream",
          "text": [
            "Survived    36\n",
            "Pclass      36\n",
            "Name        36\n",
            "Sex         36\n",
            "Age         36\n",
            "SibSp       36\n",
            "Parch       36\n",
            "Embarked    36\n",
            "dtype: int64\n"
          ],
          "name": "stdout"
        }
      ]
    },
    {
      "cell_type": "code",
      "metadata": {
        "id": "7MhK_WUCWYZO",
        "colab_type": "code",
        "colab": {
          "base_uri": "https://localhost:8080/",
          "height": 34
        },
        "outputId": "d3813665-45b9-4b46-f14b-c969fac83ac4"
      },
      "source": [
        "children_with_nannies_survived = titanic_df_new[(titanic_df_new.Parch==0)  & (titanic_df_new.SibSp==0) & (titanic_df_new.Age <= 18)]['Survived'].sum()\n",
        "print(children_with_nannies_survived)"
      ],
      "execution_count": 29,
      "outputs": [
        {
          "output_type": "stream",
          "text": [
            "13\n"
          ],
          "name": "stdout"
        }
      ]
    },
    {
      "cell_type": "markdown",
      "metadata": {
        "id": "Dubyxuu-JJeT",
        "colab_type": "text"
      },
      "source": [
        " # **Conclusion**\n",
        "\n",
        "This project analyzed data regarding passengers aboard the titanic ship and their survival statistics. It being my first data analysis project, I definitely have to say it was an exciting learning experience and answered my question as to how coding makes analyzing much easier. To begin with I was confused as to where to start, but Lesson 1 of the Intro to Data Analysis course in Udacity introduced me to the different stages of data analysis which I followed too. \n",
        "\n",
        "Firstly, I loaded in  my data and went through each column and tried to understand information it contained. I then checked for duplicate data to get rid of. Once I knew there were no duplicates I thought of any correlation there could be within data in individual columns and listed down other potential questions that crossed my mind. To make analysis easier I removed unnecessary columns from the data. \n",
        "\n",
        "The same course mentioned above also gives us an insight into numpy and pandas to be used along to obtain and represent results from the data much faster which did come in very handy for me. Using a dataframe to store my data helped visualizing data and so I continued to check if there were any missing data.\n",
        "\n",
        "Now it was time to answer my questions regarding the data. I started by seeing how many survived in total and then looking at different factors which could have affected survival rates. Results did prove more females survived overall. Looking at different age groups among passengers, we also can clearly see cildren had the highest survival rate and rates reduced as age increased.I also was curious to know who were the youngest and oldest survivors.\n",
        "\n",
        "Taking the socio-economic class each pasenger belonged, it was evident that upper class citizens had higher survival rates and an interesting observation made was that among each socio economic class females still did have higher survival rates compared to men.The results also show more passengers to be embarked at Port Southhampton survived compared to the others.\n",
        "\n",
        "Another factor I looked into was whether having relatives or nannied aboard increased a passenger's chance of survival and the results did show passenger's with relatives had higher survival rates.\n",
        "\n",
        "Overall, it was amazing to code and see it in practice although I did face a few challenges myself. Sometimes multiple errors can be quite frustating but, understanding what each error meant, using peer review and going through documentation available online did guide me through. Extended hours of coding can also be tiresome but focusing on some other work meanwhile and taking sufficient breaks time to time made me more efficient.\n",
        "\n",
        "I would finally like to mention peer review was a major part of my project, since listening to feedback with a different point of view and implementing it only makes your work better, helps you overcome your challenges and I learnt a lot more this way too.\n",
        " \n",
        " "
      ]
    }
  ]
}