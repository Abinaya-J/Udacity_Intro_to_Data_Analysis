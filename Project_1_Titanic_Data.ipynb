{
  "nbformat": 4,
  "nbformat_minor": 0,
  "metadata": {
    "colab": {
      "name": "Project 1 - Titanic Data.ipynb",
      "provenance": [],
      "toc_visible": true,
      "authorship_tag": "ABX9TyMbS+TNfIsS+kHiipURhg1H",
      "include_colab_link": true
    },
    "kernelspec": {
      "name": "python3",
      "display_name": "Python 3"
    }
  },
  "cells": [
    {
      "cell_type": "markdown",
      "metadata": {
        "id": "view-in-github",
        "colab_type": "text"
      },
      "source": [
        "<a href=\"https://colab.research.google.com/github/Abinaya-J/Udacity_Intro_to_Data_Analysis/blob/master/Project_1_Titanic_Data.ipynb\" target=\"_parent\"><img src=\"https://colab.research.google.com/assets/colab-badge.svg\" alt=\"Open In Colab\"/></a>"
      ]
    },
    {
      "cell_type": "markdown",
      "metadata": {
        "id": "x89ZYTqrpZDd",
        "colab_type": "text"
      },
      "source": [
        " # **Introduction**\n",
        "The following project would be a summary of findings through an insight into data regarding the passengers onboard during the sinking of the Titanic.It would mainly focus on survival rates of passengers depending on their sex, age ,socio-economic status and various other factors that contributed to it. \n"
      ]
    },
    {
      "cell_type": "code",
      "metadata": {
        "id": "lZXh4VQhaZ9L",
        "colab_type": "code",
        "colab": {
          "base_uri": "https://localhost:8080/",
          "height": 54
        },
        "outputId": "a593906b-a02b-46a3-ce2f-99c619607942"
      },
      "source": [
        "import csv\n",
        "titanic_data=[]\n",
        "with open('titanic_data.csv', 'rt') as f:\n",
        "  reader = csv.DictReader(f)\n",
        "  titanic_data = list(reader)\n",
        "\n",
        "print(titanic_data[0])"
      ],
      "execution_count": 1,
      "outputs": [
        {
          "output_type": "stream",
          "text": [
            "OrderedDict([('PassengerId', '1'), ('Survived', '0'), ('Pclass', '3'), ('Name', 'Braund, Mr. Owen Harris'), ('Sex', 'male'), ('Age', '22'), ('SibSp', '1'), ('Parch', '0'), ('Ticket', 'A/5 21171'), ('Fare', '7.25'), ('Cabin', ''), ('Embarked', 'S')])\n"
          ],
          "name": "stdout"
        }
      ]
    },
    {
      "cell_type": "markdown",
      "metadata": {
        "id": "Ms4iz3ax5P_s",
        "colab_type": "text"
      },
      "source": [
        " # **Data Wrangling**\n",
        "According to one row of the data obtained above, the data provided in each column can be described as follows:\n",
        "\n",
        "\n",
        "*   PassengerId = the unique number that identifies each passenger\n",
        "*   Survived = Value of \"1\" indicates the passenger survived and \"0\" indicates otherwise\n",
        "*   Pclass = Passenger class (1 = 1st class, 2 = 2nd, 3 = 3rd)\n",
        "*   Name = Name of passenger\n",
        "*   Sex = Sex of Passenger\n",
        "*   Age = Age of Passenger\n",
        "*   SibSp = Number of Siblings/Spouses of the passenger aboard\n",
        "*   Parch = Number of Parents/Children of the passenger aboard\n",
        "*   Ticket = Ticket number of Passenger\n",
        "*   Fare = Passenger ticket fare\n",
        "*   Cabin = Cabin passenger travelled in\n",
        "*   Embarked = Port of embarkation (C = Cherbourg, Q = Queenstown, S = Southampton)\n",
        "\n",
        "*Special Notes*\n",
        "1.   Pclass: proxy for the passenger's socio-economic status (1 = Upper, 2 = Middle ,3 = Lower) \n",
        "2.   Sibling: brother, sister, stepbrother, or stepsister of passenger aboard\n",
        "3.   Spouse: husband or wife of passenger aboard(mistresses and fiancees ignored)\n",
        "4.   Parent: mother or father of passenger aboard\n",
        "5.   Child: son, daughter, stepson, or stepdaughter of passenger aboard\n",
        "\n",
        "*Additional Potential Questions*\n",
        "1. Did having relatives aboard increase chance of survival?\n",
        "2. Was there any correlation between survival and the port of embarkation??\n",
        "3. Did the same sex always get higher preference despite the socio-economic class they belonged to?\n",
        "\n",
        "\n",
        "\n",
        "\n",
        "\n",
        "\n",
        "\n",
        "\n",
        "\n",
        "\n",
        "\n"
      ]
    },
    {
      "cell_type": "markdown",
      "metadata": {
        "id": "wHank2P8NoZo",
        "colab_type": "text"
      },
      "source": [
        " # **Data Cleaning**\n",
        "\n",
        "Firsly for duplicate entries to be removed I created a set contaning all unique PassengerId values which shows there aren't any since it has the same number of entries as in the original set of data.\n",
        "Also removing unnecessary columns helps data exploration so I thought the columns: Cabin,Name and Ticket weren't contributing much for the analysis and so deleted them.\n"
      ]
    },
    {
      "cell_type": "code",
      "metadata": {
        "id": "shDuFyeZnHbu",
        "colab_type": "code",
        "colab": {
          "base_uri": "https://localhost:8080/",
          "height": 50
        },
        "outputId": "72161a5b-bd4a-4bf4-cb96-bb87857d8a22"
      },
      "source": [
        "print(len(titanic_data))\n",
        "\n",
        "unique_passenger_records= set()\n",
        "for passenger_record in titanic_data:\n",
        "  unique_passenger_records.add(passenger_record['PassengerId'])\n",
        "print(len(unique_passenger_records))\n"
      ],
      "execution_count": 2,
      "outputs": [
        {
          "output_type": "stream",
          "text": [
            "891\n",
            "891\n"
          ],
          "name": "stdout"
        }
      ]
    },
    {
      "cell_type": "code",
      "metadata": {
        "id": "zeDRIyuHzcsy",
        "colab_type": "code",
        "colab": {
          "base_uri": "https://localhost:8080/",
          "height": 54
        },
        "outputId": "38ea4c2d-1661-4c68-b7bb-daaf6ad96e41"
      },
      "source": [
        "for passenger_record in titanic_data:\n",
        "  passenger_record.pop('Cabin',None)\n",
        "  passenger_record.pop('Ticket',None)\n",
        "  passenger_record.pop('Fare',None)\n",
        "\n",
        "print(titanic_data[1])"
      ],
      "execution_count": 3,
      "outputs": [
        {
          "output_type": "stream",
          "text": [
            "OrderedDict([('PassengerId', '2'), ('Survived', '1'), ('Pclass', '1'), ('Name', 'Cumings, Mrs. John Bradley (Florence Briggs Thayer)'), ('Sex', 'female'), ('Age', '38'), ('SibSp', '1'), ('Parch', '0'), ('Embarked', 'C')])\n"
          ],
          "name": "stdout"
        }
      ]
    },
    {
      "cell_type": "markdown",
      "metadata": {
        "id": "oulUJvzF0Cyb",
        "colab_type": "text"
      },
      "source": [
        " # **Data Exploration**\n",
        " This phase of the project would look into code used to identify factors that contributed to higher survival rates as mentioned in the introduction.It would also identify some interesting statistical facts from the data, for example: Who was the youngest survivor? \n",
        "Before carrying out the analysis I decided to use the pandas library to convert the data in the csv file into a dataframe to make it more accesible and visual.Unnecessary columns are also removed.\n",
        "I have also imported the matplotlib library to represent results obtained through diagrams.\n",
        "\n",
        "\n"
      ]
    },
    {
      "cell_type": "code",
      "metadata": {
        "id": "rZDgh65yi2IR",
        "colab_type": "code",
        "colab": {}
      },
      "source": [
        "import pandas as pd\n",
        "%pylab inline\n",
        "import matplotlib.pyplot as plt\n",
        "import seaborn as sns"
      ],
      "execution_count": null,
      "outputs": []
    },
    {
      "cell_type": "code",
      "metadata": {
        "id": "xmRGhRWZc7g6",
        "colab_type": "code",
        "colab": {
          "base_uri": "https://localhost:8080/",
          "height": 151
        },
        "outputId": "48b2d1a5-6e3a-4797-9afc-e1069b3001ee"
      },
      "source": [
        "titanic_df = pd.read_csv('titanic_data.csv')\n",
        "\n",
        "print(titanic_df.head())"
      ],
      "execution_count": 5,
      "outputs": [
        {
          "output_type": "stream",
          "text": [
            "   PassengerId  Survived  Pclass  ...     Fare Cabin  Embarked\n",
            "0            1         0       3  ...   7.2500   NaN         S\n",
            "1            2         1       1  ...  71.2833   C85         C\n",
            "2            3         1       3  ...   7.9250   NaN         S\n",
            "3            4         1       1  ...  53.1000  C123         S\n",
            "4            5         0       3  ...   8.0500   NaN         S\n",
            "\n",
            "[5 rows x 12 columns]\n"
          ],
          "name": "stdout"
        }
      ]
    },
    {
      "cell_type": "code",
      "metadata": {
        "id": "N39XJqwMeHn5",
        "colab_type": "code",
        "colab": {
          "base_uri": "https://localhost:8080/",
          "height": 151
        },
        "outputId": "ff7092f2-46c4-4b0e-c3da-6f120d8fbb01"
      },
      "source": [
        "titanic_df_new = titanic_df.drop(['PassengerId','Ticket','Cabin','Fare'], axis=1)\n",
        "print(titanic_df_new.head())"
      ],
      "execution_count": 6,
      "outputs": [
        {
          "output_type": "stream",
          "text": [
            "   Survived  Pclass  ... Parch Embarked\n",
            "0         0       3  ...     0        S\n",
            "1         1       1  ...     0        C\n",
            "2         1       3  ...     0        S\n",
            "3         1       1  ...     0        S\n",
            "4         0       3  ...     0        S\n",
            "\n",
            "[5 rows x 8 columns]\n"
          ],
          "name": "stdout"
        }
      ]
    },
    {
      "cell_type": "markdown",
      "metadata": {
        "id": "CincFoA1eqxb",
        "colab_type": "text"
      },
      "source": [
        "Using the isnull function helps us spot missing values in all the respective columns in the dataframe."
      ]
    },
    {
      "cell_type": "code",
      "metadata": {
        "id": "M-hIO-E_jGPX",
        "colab_type": "code",
        "colab": {
          "base_uri": "https://localhost:8080/",
          "height": 168
        },
        "outputId": "0785661f-7a64-44e7-d557-8cfbd44b947b"
      },
      "source": [
        "titanic_df_new.isnull().sum()"
      ],
      "execution_count": 7,
      "outputs": [
        {
          "output_type": "execute_result",
          "data": {
            "text/plain": [
              "Survived      0\n",
              "Pclass        0\n",
              "Name          0\n",
              "Sex           0\n",
              "Age         177\n",
              "SibSp         0\n",
              "Parch         0\n",
              "Embarked      2\n",
              "dtype: int64"
            ]
          },
          "metadata": {
            "tags": []
          },
          "execution_count": 7
        }
      ]
    },
    {
      "cell_type": "markdown",
      "metadata": {
        "id": "S_QFnrxVdgsn",
        "colab_type": "text"
      },
      "source": [
        "1. What percentage of the total number of passengers survived?"
      ]
    },
    {
      "cell_type": "code",
      "metadata": {
        "id": "HFbHnw5E098p",
        "colab_type": "code",
        "colab": {
          "base_uri": "https://localhost:8080/",
          "height": 67
        },
        "outputId": "5441a813-4bca-4aad-974d-6cf85dab1e89"
      },
      "source": [
        "survived = titanic_df_new['Survived']== True\n",
        "non_survived = titanic_df_new['Survived']== False\n",
        "\n",
        "print('Number of passengers who survived: {}'.format(survived.sum()))\n",
        "print('Number of passengers who did not survive: {}'.format(non_survived.sum()))\n",
        "\n",
        "percent_survived =(survived.sum()/891) *100\n",
        "print('Percentage of passengers who survived: {} %'.format(percent_survived))"
      ],
      "execution_count": 8,
      "outputs": [
        {
          "output_type": "stream",
          "text": [
            "Number of passengers who survived: 342\n",
            "Number of passengers who did not survive: 549\n",
            "Percentage of passengers who survived: 38.38383838383838 %\n"
          ],
          "name": "stdout"
        }
      ]
    },
    {
      "cell_type": "code",
      "metadata": {
        "id": "zVXnouAIlabD",
        "colab_type": "code",
        "colab": {
          "base_uri": "https://localhost:8080/",
          "height": 282
        },
        "outputId": "bc5e6cc9-9f68-4819-92d2-7557139adaba"
      },
      "source": [
        "names=['Survivors','Non-Survivors']\n",
        "values=[survived.sum(),non_survived.sum()]\n",
        "plt.bar(names,values)"
      ],
      "execution_count": 9,
      "outputs": [
        {
          "output_type": "execute_result",
          "data": {
            "text/plain": [
              "<BarContainer object of 2 artists>"
            ]
          },
          "metadata": {
            "tags": []
          },
          "execution_count": 9
        },
        {
          "output_type": "display_data",
          "data": {
            "image/png": "[encoded data removed]",
            "text/plain": [
              "<Figure size 432x288 with 1 Axes>"
            ]
          },
          "metadata": {
            "tags": [],
            "needs_background": "light"
          }
        }
      ]
    },
    {
      "cell_type": "markdown",
      "metadata": {
        "id": "Aq4kfXRRv28u",
        "colab_type": "text"
      },
      "source": [
        " 2. Did survival rates depend on the sex of the passenger?\n",
        "\n"
      ]
    },
    {
      "cell_type": "code",
      "metadata": {
        "id": "zrHdodCvWUO2",
        "colab_type": "code",
        "colab": {
          "base_uri": "https://localhost:8080/",
          "height": 67
        },
        "outputId": "a434bcd1-7e5b-4382-a1cf-2f418d075285"
      },
      "source": [
        "female_survived = titanic_df_new[survived]['Sex']=='female'\n",
        "male_survived = titanic_df_new[survived]['Sex']=='male'\n",
        "\n",
        "print('Number of female passengers who survived: {}'.format(female_survived.sum()))\n",
        "print('Number of male passengers who survived: {}'.format(male_survived.sum()))\n",
        "\n",
        "percent_female_survived = (female_survived.sum()/342) *100\n",
        "print('{}% of the passengers who survived were female.'.format(percent_female_survived))"
      ],
      "execution_count": 10,
      "outputs": [
        {
          "output_type": "stream",
          "text": [
            "Number of female passengers who survived: 233\n",
            "Number of male passengers who survived: 109\n",
            "68.12865497076024% of the passengers who survived were female.\n"
          ],
          "name": "stdout"
        }
      ]
    },
    {
      "cell_type": "code",
      "metadata": {
        "id": "8xbOk8BIHBeR",
        "colab_type": "code",
        "colab": {
          "base_uri": "https://localhost:8080/",
          "height": 282
        },
        "outputId": "46ec927f-59ad-471a-c13d-01fc185271f7"
      },
      "source": [
        "names=['Female Survivors',' Male Survivors']\n",
        "values=[female_survived.sum(),male_survived.sum()]\n",
        "plt.bar(names,values)"
      ],
      "execution_count": 11,
      "outputs": [
        {
          "output_type": "execute_result",
          "data": {
            "text/plain": [
              "<BarContainer object of 2 artists>"
            ]
          },
          "metadata": {
            "tags": []
          },
          "execution_count": 11
        },
        {
          "output_type": "display_data",
          "data": {
            "image/png": "[encoded data removed]",
            "text/plain": [
              "<Figure size 432x288 with 1 Axes>"
            ]
          },
          "metadata": {
            "tags": [],
            "needs_background": "light"
          }
        }
      ]
    },
    {
      "cell_type": "markdown",
      "metadata": {
        "id": "DCK7ILttvV51",
        "colab_type": "text"
      },
      "source": [
        "3.   Who were the youngest and oldest survivors and how old were they?\n",
        "\n"
      ]
    },
    {
      "cell_type": "code",
      "metadata": {
        "id": "qZgoOAsz860A",
        "colab_type": "code",
        "colab": {
          "base_uri": "https://localhost:8080/",
          "height": 50
        },
        "outputId": "7f6b3e85-a10f-4944-f57a-3570c729d9bf"
      },
      "source": [
        "missing_age_data = pd.isnull(titanic_df_new['Age'])\n",
        "youngest_survivor = titanic_df_new[survived]['Age'].argmin()\n",
        "youngest_survivor_name = titanic_df_new[survived].iloc[youngest_survivor]['Name']\n",
        "youngest_survivor_age= titanic_df_new[survived].iloc[youngest_survivor]['Age']\n",
        "print('The youngest survivor {} was {} years old.'.format(youngest_survivor_name,youngest_survivor_age))\n",
        "\n",
        "oldest_survivor = titanic_df_new[survived]['Age'].argmax()\n",
        "oldest_survivor_name = titanic_df_new[survived].iloc[oldest_survivor]['Name']\n",
        "oldest_survivor_age= titanic_df_new[survived].iloc[oldest_survivor]['Age']\n",
        "print('The oldest survivor {} was {} years old.'.format(oldest_survivor_name,oldest_survivor_age))"
      ],
      "execution_count": 12,
      "outputs": [
        {
          "output_type": "stream",
          "text": [
            "The youngest survivor Thomas, Master. Assad Alexander was 0.42 years old.\n",
            "The oldest survivor Barkworth, Mr. Algernon Henry Wilson was 80.0 years old.\n"
          ],
          "name": "stdout"
        }
      ]
    },
    {
      "cell_type": "markdown",
      "metadata": {
        "id": "dwHe13RmvhZs",
        "colab_type": "text"
      },
      "source": [
        "4.  Who were the youngest and oldest non-survivors and how old were they?\n",
        "\n"
      ]
    },
    {
      "cell_type": "code",
      "metadata": {
        "id": "W8RRWMsKbxfH",
        "colab_type": "code",
        "colab": {
          "base_uri": "https://localhost:8080/",
          "height": 50
        },
        "outputId": "f1c140bd-3030-481e-88ce-4e8160a094f0"
      },
      "source": [
        "youngest_non_survivor = titanic_df_new[non_survived]['Age'].argmin()\n",
        "youngest_non_survivor_name = titanic_df_new[non_survived].iloc[youngest_non_survivor]['Name']\n",
        "youngest_non_survivor_age= titanic_df_new[non_survived].iloc[youngest_non_survivor]['Age']\n",
        "print('The youngest non-survivor {} was {} years old.'.format(youngest_non_survivor_name,youngest_non_survivor_age))\n",
        "\n",
        "oldest_non_survivor = titanic_df_new[non_survived]['Age'].argmax()\n",
        "oldest_non_survivor_name = titanic_df_new[non_survived].iloc[oldest_non_survivor]['Name']\n",
        "oldest_non_survivor_age= titanic_df_new[non_survived].iloc[oldest_non_survivor]['Age']\n",
        "print('The oldest non-survivor {} was {} years old.'.format(oldest_non_survivor_name,oldest_non_survivor_age))"
      ],
      "execution_count": 13,
      "outputs": [
        {
          "output_type": "stream",
          "text": [
            "The youngest non-survivor Panula, Master. Eino Viljami was 1.0 years old.\n",
            "The oldest non-survivor Svensson, Mr. Johan was 74.0 years old.\n"
          ],
          "name": "stdout"
        }
      ]
    },
    {
      "cell_type": "markdown",
      "metadata": {
        "id": "BoLoh_02wUAc",
        "colab_type": "text"
      },
      "source": [
        "\n",
        "\n",
        "5.  Which age group consisted of the largest number of survivors?\n"
      ]
    },
    {
      "cell_type": "code",
      "metadata": {
        "id": "yZTbg8CuFcpR",
        "colab_type": "code",
        "colab": {
          "base_uri": "https://localhost:8080/",
          "height": 84
        },
        "outputId": "f7ace0ce-cd00-4175-a9a5-7d7b20fa6fea"
      },
      "source": [
        "below_12 = titanic_df_new[survived]['Age']<=12\n",
        "below_19 = titanic_df_new[survived]['Age']<=19\n",
        "below_59 = titanic_df_new[survived]['Age']<=59\n",
        "below_100 = titanic_df_new[survived]['Age']<=100\n",
        "\n",
        "children_survived = below_12.sum()\n",
        "teenagers_survived = below_19.sum() - below_12.sum()\n",
        "adults_survived = below_59.sum() - (below_19.sum())\n",
        "elderly_survived = below_100.sum() - (below_59.sum())\n",
        "\n",
        "print('Number of children who survived: {}'.format(children_survived))\n",
        "print('Number of teenagers who survived: {}'.format(teenagers_survived))\n",
        "print('Number of adults who survived: {}'.format(adults_survived))\n",
        "print('Number of elderly who survived: {}'.format(elderly_survived))"
      ],
      "execution_count": 26,
      "outputs": [
        {
          "output_type": "stream",
          "text": [
            "Number of children who survived: 40\n",
            "Number of teenagers who survived: 39\n",
            "Number of adults who survived: 204\n",
            "Number of elderly who survived: 7\n"
          ],
          "name": "stdout"
        }
      ]
    },
    {
      "cell_type": "markdown",
      "metadata": {
        "id": "9lqG1Tem3ZZH",
        "colab_type": "text"
      },
      "source": [
        "6. Which age group had the highest survival rate? Did age have any significant effect on the chance of survival?"
      ]
    },
    {
      "cell_type": "code",
      "metadata": {
        "id": "YHacZVA15XYR",
        "colab_type": "code",
        "colab": {
          "base_uri": "https://localhost:8080/",
          "height": 298
        },
        "outputId": "a00bf597-d78a-4cf5-c5dd-acc900a4a454"
      },
      "source": [
        "below_12_all = titanic_df_new['Age']<=12\n",
        "below_19_all= titanic_df_new['Age']<=19\n",
        "below_59_all= titanic_df_new['Age']<=59\n",
        "below_100_all = titanic_df_new['Age']<=100\n",
        "\n",
        "children_total = below_12_all.sum()\n",
        "teenagers_total = below_19_all.sum() - below_12_all.sum()\n",
        "adults_total = below_59_all.sum() - (below_19_all.sum())\n",
        "elderly_total = below_100_all.sum() - (below_59_all.sum())\n",
        "\n",
        "children_sr = (children_survived/children_total)*100\n",
        "teenager_sr = (teenagers_survived/teenagers_total)*100\n",
        "adults_sr = (adults_survived /adults_total)*100\n",
        "elderly_sr = (elderly_survived/elderly_total)*100\n",
        "\n",
        "names=['Children',' Teenagers','Adults','Elderly']\n",
        "values=[children_sr,teenager_sr,adults_sr,elderly_sr]\n",
        "plt.bar(names,values)\n",
        "plt.title('Survival rates according to age groups')"
      ],
      "execution_count": 27,
      "outputs": [
        {
          "output_type": "execute_result",
          "data": {
            "text/plain": [
              "Text(0.5, 1.0, 'Survival rates according to age groups')"
            ]
          },
          "metadata": {
            "tags": []
          },
          "execution_count": 27
        },
        {
          "output_type": "display_data",
          "data": {
            "image/png": "[encoded data removed]",
            "text/plain": [
              "<Figure size 432x288 with 1 Axes>"
            ]
          },
          "metadata": {
            "tags": [],
            "needs_background": "light"
          }
        }
      ]
    },
    {
      "cell_type": "markdown",
      "metadata": {
        "id": "Dr9zMkebG5qh",
        "colab_type": "text"
      },
      "source": [
        "7. Is there any correlation between the socio economic status of the passenger and their survival rates?"
      ]
    },
    {
      "cell_type": "code",
      "metadata": {
        "id": "GGc692Dgk4wy",
        "colab_type": "code",
        "colab": {
          "base_uri": "https://localhost:8080/",
          "height": 34
        },
        "outputId": "0254effe-4db5-41f3-92ff-f7f635d694ee"
      },
      "source": [
        "def survival(Pclass):\n",
        "  return titanic_df_new.groupby(['Pclass','Survived']).size()[Pclass,1].astype('float')\n",
        "\n",
        "print('Out of all passengers who survived, {} belonged to the upper class , {} belonged to the middle class and {} belonged to the lower class.'.format(survival(1),survival(2),survival(3)))"
      ],
      "execution_count": 16,
      "outputs": [
        {
          "output_type": "stream",
          "text": [
            "Out of all passengers who survived, 136.0 belonged to the upper class , 87.0 belonged to the middle class and 119.0 belonged to the lower class.\n"
          ],
          "name": "stdout"
        }
      ]
    },
    {
      "cell_type": "code",
      "metadata": {
        "id": "S3kPEJDxmQh_",
        "colab_type": "code",
        "colab": {
          "base_uri": "https://localhost:8080/",
          "height": 281
        },
        "outputId": "b90770d6-d5bb-40b7-8e10-f8136b5c1b73"
      },
      "source": [
        "names=['Upper class',' Middle class','Lower class']\n",
        "values=[survival(1),survival(2),survival(3)]\n",
        "plt.bar(names,values)"
      ],
      "execution_count": null,
      "outputs": [
        {
          "output_type": "execute_result",
          "data": {
            "text/plain": [
              "<BarContainer object of 3 artists>"
            ]
          },
          "metadata": {
            "tags": []
          },
          "execution_count": 25
        },
        {
          "output_type": "display_data",
          "data": {
            "image/png": "[encoded data removed]",
            "text/plain": [
              "<Figure size 432x288 with 1 Axes>"
            ]
          },
          "metadata": {
            "tags": [],
            "needs_background": "light"
          }
        }
      ]
    },
    {
      "cell_type": "markdown",
      "metadata": {
        "id": "j0_wpjbSn3zG",
        "colab_type": "text"
      },
      "source": [
        "8. Did females still have a higher survival rate among each socio-economic class?"
      ]
    },
    {
      "cell_type": "code",
      "metadata": {
        "id": "trGPf_tDpqTg",
        "colab_type": "code",
        "colab": {
          "base_uri": "https://localhost:8080/",
          "height": 50
        },
        "outputId": "1908e864-0b0f-420f-e812-750b14b1ef24"
      },
      "source": [
        "def survival_female(Pclass):\n",
        "  return titanic_df_new.groupby(['Pclass','Survived','Sex']).size()[Pclass,1,'female'].astype('float')\n",
        "\n",
        "print( '{} % of Upper class citizens who survived were females'.format((survival_female(1)/survival(1)) *100))\n",
        "\n",
        "print('Similarly {} % in the Middle class and {} % in the Lower class'.format(((survival_female(2)/survival(2)) *100), ((survival_female(3)/survival(3)) *100)))"
      ],
      "execution_count": null,
      "outputs": [
        {
          "output_type": "stream",
          "text": [
            "66.91176470588235 % of Upper class citizens who survived were females\n",
            "Similarly 80.45977011494253 % in the Middle class and 60.50420168067227 % in the Lower class\n"
          ],
          "name": "stdout"
        }
      ]
    },
    {
      "cell_type": "markdown",
      "metadata": {
        "id": "wSQzCw1O7n-T",
        "colab_type": "text"
      },
      "source": [
        "9. Which socio economic class had the highest survival rates?"
      ]
    },
    {
      "cell_type": "code",
      "metadata": {
        "id": "ituLbLp47icQ",
        "colab_type": "code",
        "colab": {
          "base_uri": "https://localhost:8080/",
          "height": 67
        },
        "outputId": "c6887697-e19a-4f03-d33e-9554fac747eb"
      },
      "source": [
        "def total(Pclass):\n",
        "  return titanic_df_new.groupby(['Pclass']).size()[Pclass].astype('float')\n",
        "\n",
        "Pclass1_sr = (survival(1)/total(1))*100\n",
        "Pclass2_sr = (survival(2)/total(2))*100\n",
        "Pclass3_sr = (survival(3)/total(3))*100\n",
        "\n",
        "print('{} % of upper class citizens survived'.format(Pclass1_sr))\n",
        "print('{} % of middle class citizens survived'.format(Pclass2_sr))\n",
        "print('{} % of lower class citizens survived'.format(Pclass3_sr))"
      ],
      "execution_count": 28,
      "outputs": [
        {
          "output_type": "stream",
          "text": [
            "62.96296296296296 % of upper class citizens survived\n",
            "47.28260869565217 % of middle class citizens survived\n",
            "24.236252545824847 % of lower class citizens survived\n"
          ],
          "name": "stdout"
        }
      ]
    },
    {
      "cell_type": "markdown",
      "metadata": {
        "id": "2NZENKJLn2MJ",
        "colab_type": "text"
      },
      "source": [
        "10. Did the port of embarkation contribute to the passenger's chance of survival?"
      ]
    },
    {
      "cell_type": "code",
      "metadata": {
        "id": "V7aMfbsrmd6n",
        "colab_type": "code",
        "colab": {
          "base_uri": "https://localhost:8080/",
          "height": 53
        },
        "outputId": "e0bd943d-d870-472f-ded9-2eff58ee0827"
      },
      "source": [
        "Port_C_s= titanic_df_new[survived]['Embarked']=='C'\n",
        "Port_S_s= titanic_df_new[survived]['Embarked']=='S'\n",
        "Port_Q_s= titanic_df_new[survived]['Embarked']=='Q'\n",
        "\n",
        "print('Out of all passengers who survived, {} were to be embarked at Cherbourg , {} were to be embarked at Southhampton and {} were to be embarked at Queenstown.'.format(Port_C_s.sum(),Port_S_s.sum(),Port_Q_s.sum()))"
      ],
      "execution_count": null,
      "outputs": [
        {
          "output_type": "stream",
          "text": [
            "Out of all passengers who survived, 93 were to be embarked at Cherbourg , 217 were to be embarked at Southhampton and 30 were to be embarked at Queenstown.\n"
          ],
          "name": "stdout"
        }
      ]
    },
    {
      "cell_type": "code",
      "metadata": {
        "id": "bQk_Ct-8IMIk",
        "colab_type": "code",
        "colab": {
          "base_uri": "https://localhost:8080/",
          "height": 281
        },
        "outputId": "38681d15-26ac-4a52-a111-7af521e851ab"
      },
      "source": [
        "names=['Port Southhampton',' Port Cherbourg','Port Queenstown']\n",
        "values=[Port_S_s.sum(),Port_C_s.sum(),Port_Q_s.sum()]\n",
        "plt.bar(names,values)"
      ],
      "execution_count": null,
      "outputs": [
        {
          "output_type": "execute_result",
          "data": {
            "text/plain": [
              "<BarContainer object of 3 artists>"
            ]
          },
          "metadata": {
            "tags": []
          },
          "execution_count": 22
        },
        {
          "output_type": "display_data",
          "data": {
            "image/png": "[encoded data removed]",
            "text/plain": [
              "<Figure size 432x288 with 1 Axes>"
            ]
          },
          "metadata": {
            "tags": [],
            "needs_background": "light"
          }
        }
      ]
    },
    {
      "cell_type": "markdown",
      "metadata": {
        "id": "gCuwB_0zQKvl",
        "colab_type": "text"
      },
      "source": [
        "11. Did children with parents have a higher chance of survival? Were there nannies present? Did children with nannies fare better?"
      ]
    },
    {
      "cell_type": "code",
      "metadata": {
        "id": "ekWRrDtkjS-9",
        "colab_type": "code",
        "colab": {}
      },
      "source": [
        "children=titanic_df_new[survived]['Age']<=12"
      ],
      "execution_count": null,
      "outputs": []
    },
    {
      "cell_type": "markdown",
      "metadata": {
        "id": "Dubyxuu-JJeT",
        "colab_type": "text"
      },
      "source": [
        " # **Conclusion**\n",
        " "
      ]
    },
    {
      "cell_type": "code",
      "metadata": {
        "id": "OwqAS5wXJUgJ",
        "colab_type": "code",
        "colab": {}
      },
      "source": [
        "parch and less than 14 \n",
        "parch and women\n",
        "plot-matllib\n",
        "def function for pclass\n",
        "for age?? groups??-subodh"
      ],
      "execution_count": null,
      "outputs": []
    }
  ]
}