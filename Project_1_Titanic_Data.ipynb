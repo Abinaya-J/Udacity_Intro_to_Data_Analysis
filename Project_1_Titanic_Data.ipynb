{
  "nbformat": 4,
  "nbformat_minor": 0,
  "metadata": {
    "colab": {
      "name": "Project 1 - Titanic Data.ipynb",
      "provenance": [],
      "authorship_tag": "ABX9TyOrjrnKqIhaPwv3SPlL8y2M",
      "include_colab_link": true
    },
    "kernelspec": {
      "name": "python3",
      "display_name": "Python 3"
    }
  },
  "cells": [
    {
      "cell_type": "markdown",
      "metadata": {
        "id": "view-in-github",
        "colab_type": "text"
      },
      "source": [
        "<a href=\"https://colab.research.google.com/github/Abinaya-J/Udacity_Intro_to_Data_Analysis/blob/master/Project_1_Titanic_Data.ipynb\" target=\"_parent\"><img src=\"https://colab.research.google.com/assets/colab-badge.svg\" alt=\"Open In Colab\"/></a>"
      ]
    },
    {
      "cell_type": "markdown",
      "metadata": {
        "id": "x89ZYTqrpZDd",
        "colab_type": "text"
      },
      "source": [
        " # **Introduction**\n",
        "The following project would be a summary of findings through an insight into data regarding the passengers onboard during the sinking of the Titanic.It would mainly focus on survival rates of passengers depending on their sex, age ,socio-economic status and various other factors that contributed to it. \n"
      ]
    },
    {
      "cell_type": "code",
      "metadata": {
        "id": "lZXh4VQhaZ9L",
        "colab_type": "code",
        "colab": {
          "base_uri": "https://localhost:8080/",
          "height": 53
        },
        "outputId": "bf671546-b234-437d-e476-4c4c8c0c1a57"
      },
      "source": [
        "import csv\n",
        "titanic_data=[]\n",
        "with open('titanic_data.csv', 'rt') as f:\n",
        "  reader = csv.DictReader(f)\n",
        "  titanic_data = list(reader)\n",
        "\n",
        "print(titanic_data[0])"
      ],
      "execution_count": 69,
      "outputs": [
        {
          "output_type": "stream",
          "text": [
            "OrderedDict([('PassengerId', '1'), ('Survived', '0'), ('Pclass', '3'), ('Name', 'Braund, Mr. Owen Harris'), ('Sex', 'male'), ('Age', '22'), ('SibSp', '1'), ('Parch', '0'), ('Ticket', 'A/5 21171'), ('Fare', '7.25'), ('Cabin', ''), ('Embarked', 'S')])\n"
          ],
          "name": "stdout"
        }
      ]
    },
    {
      "cell_type": "markdown",
      "metadata": {
        "id": "Ms4iz3ax5P_s",
        "colab_type": "text"
      },
      "source": [
        " # **Data Wrangling**\n",
        "According to one row of the data obtained above, the data provided in each column can be described as follows:\n",
        "\n",
        "\n",
        "*   PassengerId = the unique number that identifies each passenger\n",
        "*   Survived = Value of \"1\" indicates the passenger survived and \"0\" indicates otherwise\n",
        "*   Pclass = Passenger class (1 = 1st class, 2 = 2nd, 3 = 3rd)\n",
        "*   Name = Name of passenger\n",
        "*   Sex = Sex of Passenger\n",
        "*   Age = Age of Passenger\n",
        "*   SibSp = Number of Siblings/Spouses of the passenger aboard\n",
        "*   Parch = Number of Parents/Children of the passenger aboard\n",
        "*   Ticket = Ticket number of Passenger\n",
        "*   Fare = Passenger ticket fare\n",
        "*   Cabin = Cabin passenger travelled in\n",
        "*   Embarked = Port of embarkation (C = Cherbourg, Q = Queenstown, S = Southampton)\n",
        "\n",
        "*Special Notes*\n",
        "1.   Pclass: proxy for the passenger's socio-economic status (1 = Upper, 2 = Middle ,3 = Lower) \n",
        "2.   Sibling: brother, sister, stepbrother, or stepsister of passenger aboard\n",
        "3.   Spouse: husband or wife of passenger aboard(mistresses and fiancees ignored)\n",
        "4.   Parent: mother or father of passenger aboard\n",
        "5.   Child: son, daughter, stepson, or stepdaughter of passenger aboard\n",
        "\n",
        "*Additional Potential Questions*\n",
        "1. Did having relatives aboard increase chance of survival?\n",
        "2. Did the cabin passengers travelled in contibute to survival rates? Cabins with low survival rates closer to place hit by iceberg?\n",
        "3.   port of embarkation?? port before accident??\n",
        "\n",
        "\n",
        "\n",
        "\n",
        "\n",
        "\n",
        "\n",
        "\n",
        "\n",
        "\n",
        "\n"
      ]
    },
    {
      "cell_type": "markdown",
      "metadata": {
        "id": "wHank2P8NoZo",
        "colab_type": "text"
      },
      "source": [
        " # **Data Cleaning**\n",
        "\n",
        "Firsly for duplicate entries to be removed I created a set contaning all unique PassengerId values which shows there aren't any since it has the same number of entries as in the original set of data. \n",
        "Afterwards formatting data makes it easier to deal with and therefore I decided to make the values in the fare column integer values instead of float values.\n",
        "Lastly removing unnecessary columns helps data exploration so I thought the columns: Cabin,Name and Ticket weren't contributing much for the analysis and so deleted them.\n"
      ]
    },
    {
      "cell_type": "code",
      "metadata": {
        "id": "shDuFyeZnHbu",
        "colab_type": "code",
        "colab": {
          "base_uri": "https://localhost:8080/",
          "height": 50
        },
        "outputId": "2654106f-5e9b-4d86-de6e-cc5b96dab89e"
      },
      "source": [
        "print(len(titanic_data))\n",
        "\n",
        "unique_passenger_records= set()\n",
        "for passenger_record in titanic_data:\n",
        "  unique_passenger_records.add(passenger_record['PassengerId'])\n",
        "print(len(unique_passenger_records))\n"
      ],
      "execution_count": 70,
      "outputs": [
        {
          "output_type": "stream",
          "text": [
            "891\n",
            "891\n"
          ],
          "name": "stdout"
        }
      ]
    },
    {
      "cell_type": "code",
      "metadata": {
        "id": "2XcpAwBiOe1_",
        "colab_type": "code",
        "colab": {
          "base_uri": "https://localhost:8080/",
          "height": 53
        },
        "outputId": "4abfc481-5edf-4d46-e353-9c422cdcbea3"
      },
      "source": [
        "for passenger_record in titanic_data:\n",
        "  passenger_record['Fare'] = int(float(passenger_record['Fare']))\n",
        "print(titanic_data[1])"
      ],
      "execution_count": 71,
      "outputs": [
        {
          "output_type": "stream",
          "text": [
            "OrderedDict([('PassengerId', '2'), ('Survived', '1'), ('Pclass', '1'), ('Name', 'Cumings, Mrs. John Bradley (Florence Briggs Thayer)'), ('Sex', 'female'), ('Age', '38'), ('SibSp', '1'), ('Parch', '0'), ('Ticket', 'PC 17599'), ('Fare', 71), ('Cabin', 'C85'), ('Embarked', 'C')])\n"
          ],
          "name": "stdout"
        }
      ]
    },
    {
      "cell_type": "code",
      "metadata": {
        "id": "zeDRIyuHzcsy",
        "colab_type": "code",
        "colab": {
          "base_uri": "https://localhost:8080/",
          "height": 53
        },
        "outputId": "bf933f11-b40c-45ce-cd95-4a4d8f1020e8"
      },
      "source": [
        "for passenger_record in titanic_data:\n",
        "  passenger_record.pop('Cabin',None)\n",
        "  passenger_record.pop('Ticket',None)\n",
        "\n",
        "print(titanic_data[1])"
      ],
      "execution_count": 72,
      "outputs": [
        {
          "output_type": "stream",
          "text": [
            "OrderedDict([('PassengerId', '2'), ('Survived', '1'), ('Pclass', '1'), ('Name', 'Cumings, Mrs. John Bradley (Florence Briggs Thayer)'), ('Sex', 'female'), ('Age', '38'), ('SibSp', '1'), ('Parch', '0'), ('Fare', 71), ('Embarked', 'C')])\n"
          ],
          "name": "stdout"
        }
      ]
    },
    {
      "cell_type": "markdown",
      "metadata": {
        "id": "oulUJvzF0Cyb",
        "colab_type": "text"
      },
      "source": [
        " # **Data Exploration**\n",
        " This phase of the project would look into code used to identify factors that contributed to higher survival rates as mentioned in the introduction.It would also identify some interesting statistical facts from the data, for example: Who was the youngest survivor?"
      ]
    },
    {
      "cell_type": "code",
      "metadata": {
        "id": "HFbHnw5E098p",
        "colab_type": "code",
        "colab": {
          "base_uri": "https://localhost:8080/",
          "height": 50
        },
        "outputId": "2a547c94-f8f6-45a6-b7a4-6edda486e428"
      },
      "source": [
        "survived_passengers = []\n",
        "non_survived_passengers=[]\n",
        "for passenger_record in titanic_data:\n",
        "  Survived = passenger_record['Survived']\n",
        "  if passenger_record['Survived']=='1':\n",
        "    survived_passengers.append(passenger_record)\n",
        "  elif passenger_record['Survived']=='0':\n",
        "    non_survived_passengers.append(passenger_record)\n",
        "\n",
        "print(len(survived_passengers))\n",
        "print(len(non_survived_passengers))"
      ],
      "execution_count": 73,
      "outputs": [
        {
          "output_type": "stream",
          "text": [
            "342\n",
            "549\n"
          ],
          "name": "stdout"
        }
      ]
    },
    {
      "cell_type": "code",
      "metadata": {
        "id": "GhATXypuaF_2",
        "colab_type": "code",
        "colab": {
          "base_uri": "https://localhost:8080/",
          "height": 50
        },
        "outputId": "6966c0e4-4def-48be-bb53-456d90ae7209"
      },
      "source": [
        "youngest_survivor = None\n",
        "youngest_survivor_age = 100\n",
        "\n",
        "for passenger_record in survived_passengers:\n",
        "  age = passenger_record['Age']\n",
        "  if age < 'youngest_survivor_age':\n",
        "    youngest_survivor_age = passenger_record['Age']\n",
        "    youngest_survivor = passenger_record['Name']\n",
        "\n",
        "print(youngest_survivor)\n",
        "print(youngest_survivor_age)"
      ],
      "execution_count": 77,
      "outputs": [
        {
          "output_type": "stream",
          "text": [
            "Behr, Mr. Karl Howell\n",
            "26\n"
          ],
          "name": "stdout"
        }
      ]
    },
    {
      "cell_type": "code",
      "metadata": {
        "id": "W8RRWMsKbxfH",
        "colab_type": "code",
        "colab": {
          "base_uri": "https://localhost:8080/",
          "height": 50
        },
        "outputId": "76ac97df-bd10-414d-9c77-13fcfb7d7cb9"
      },
      "source": [
        "youngest_non_survivor = None\n",
        "youngest_non_survivor_age = 100\n",
        "\n",
        "for passenger_record in non_survived_passengers:\n",
        "  age = passenger_record['Age']\n",
        "  if age < 'youngest_non_survivor_age':\n",
        "    youngest_non_survivor_age = passenger_record['Age']\n",
        "    youngest_non_survivor = passenger_record['Name']\n",
        "\n",
        "print(youngest_non_survivor)\n",
        "print(youngest_non_survivor_age)"
      ],
      "execution_count": 78,
      "outputs": [
        {
          "output_type": "stream",
          "text": [
            "Dooley, Mr. Patrick\n",
            "32\n"
          ],
          "name": "stdout"
        }
      ]
    },
    {
      "cell_type": "code",
      "metadata": {
        "id": "6CwqPPTRcCV8",
        "colab_type": "code",
        "colab": {
          "base_uri": "https://localhost:8080/",
          "height": 50
        },
        "outputId": "c6da0804-8955-4dec-fab3-24996b25a664"
      },
      "source": [
        "oldest_survivor = None\n",
        "oldest_survivor_age = 0\n",
        "\n",
        "for passenger_record in survived_passengers:\n",
        "  age = passenger_record['Age']\n",
        "  if age > 'oldest_survivor_age':\n",
        "    oldest_survivor_age = passenger_record['Age']\n",
        "    oldest_survivor = passenger_record['Name']\n",
        "\n",
        "print(oldest_survivor)\n",
        "print(oldest_survivor_age)"
      ],
      "execution_count": 81,
      "outputs": [
        {
          "output_type": "stream",
          "text": [
            "None\n",
            "0\n"
          ],
          "name": "stdout"
        }
      ]
    },
    {
      "cell_type": "code",
      "metadata": {
        "id": "3Me4KLrsc1th",
        "colab_type": "code",
        "colab": {
          "base_uri": "https://localhost:8080/",
          "height": 50
        },
        "outputId": "7fc11dd0-c94d-41ab-d396-d5c975ef4394"
      },
      "source": [
        "oldest_non_survivor = None\n",
        "oldest_non_survivor_age = 0\n",
        "\n",
        "for passenger_record in non_survived_passengers:\n",
        "  age = passenger_record['Age']\n",
        "  if age > 'oldest_non_survivor_age':\n",
        "    oldest_non_survivor_age = passenger_record['Age']\n",
        "    oldest_non_survivor = passenger_record['Name']\n",
        "\n",
        "print(oldest_non_survivor)\n",
        "print(oldest_non_survivor_age)"
      ],
      "execution_count": 82,
      "outputs": [
        {
          "output_type": "stream",
          "text": [
            "None\n",
            "0\n"
          ],
          "name": "stdout"
        }
      ]
    },
    {
      "cell_type": "code",
      "metadata": {
        "id": "zrHdodCvWUO2",
        "colab_type": "code",
        "colab": {
          "base_uri": "https://localhost:8080/",
          "height": 50
        },
        "outputId": "64f093b8-1c39-44a2-9965-482bdb2943f6"
      },
      "source": [
        "female_survived_passengers=[]\n",
        "male_survivied_passengers=[]\n",
        "for passenger_record in survived_passengers:\n",
        "  Sex = passenger_record['Sex']\n",
        "  if Sex == 'female':\n",
        "    female_survived_passengers.append(passenger_record)\n",
        "  else:\n",
        "    male_survivied_passengers.append(passenger_record)\n",
        "\n",
        "print(len(female_survived_passengers))\n",
        "print(len(male_survivied_passengers))"
      ],
      "execution_count": 74,
      "outputs": [
        {
          "output_type": "stream",
          "text": [
            "233\n",
            "109\n"
          ],
          "name": "stdout"
        }
      ]
    },
    {
      "cell_type": "code",
      "metadata": {
        "id": "q0Ezy-TrYXQR",
        "colab_type": "code",
        "colab": {}
      },
      "source": [
        ""
      ],
      "execution_count": null,
      "outputs": []
    }
  ]
}