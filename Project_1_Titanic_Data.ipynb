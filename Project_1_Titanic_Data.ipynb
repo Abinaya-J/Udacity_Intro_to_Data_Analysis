{
  "nbformat": 4,
  "nbformat_minor": 0,
  "metadata": {
    "colab": {
      "name": "Project 1 - Titanic Data.ipynb",
      "provenance": [],
      "toc_visible": true,
      "authorship_tag": "ABX9TyPOX94k8R7deorgiVVgN/hO",
      "include_colab_link": true
    },
    "kernelspec": {
      "name": "python3",
      "display_name": "Python 3"
    }
  },
  "cells": [
    {
      "cell_type": "markdown",
      "metadata": {
        "id": "view-in-github",
        "colab_type": "text"
      },
      "source": [
        "<a href=\"https://colab.research.google.com/github/Abinaya-J/Udacity_Intro_to_Data_Analysis/blob/master/Project_1_Titanic_Data.ipynb\" target=\"_parent\"><img src=\"https://colab.research.google.com/assets/colab-badge.svg\" alt=\"Open In Colab\"/></a>"
      ]
    },
    {
      "cell_type": "markdown",
      "metadata": {
        "id": "x89ZYTqrpZDd",
        "colab_type": "text"
      },
      "source": [
        " # **Introduction**\n",
        "The following project would be a summary of findings through an insight into data regarding the passengers onboard during the sinking of the Titanic.It would mainly focus on survival rates of passengers depending on their sex, age ,socio-economic status and various other factors that contributed to it. \n"
      ]
    },
    {
      "cell_type": "code",
      "metadata": {
        "id": "lZXh4VQhaZ9L",
        "colab_type": "code",
        "colab": {
          "base_uri": "https://localhost:8080/",
          "height": 53
        },
        "outputId": "668c6524-c4a1-4a71-b305-37b2480e739d"
      },
      "source": [
        "import csv\n",
        "titanic_data=[]\n",
        "with open('titanic_data.csv', 'rt') as f:\n",
        "  reader = csv.DictReader(f)\n",
        "  titanic_data = list(reader)\n",
        "\n",
        "print(titanic_data[0])"
      ],
      "execution_count": 40,
      "outputs": [
        {
          "output_type": "stream",
          "text": [
            "OrderedDict([('PassengerId', '1'), ('Survived', '0'), ('Pclass', '3'), ('Name', 'Braund, Mr. Owen Harris'), ('Sex', 'male'), ('Age', '22'), ('SibSp', '1'), ('Parch', '0'), ('Ticket', 'A/5 21171'), ('Fare', '7.25'), ('Cabin', ''), ('Embarked', 'S')])\n"
          ],
          "name": "stdout"
        }
      ]
    },
    {
      "cell_type": "markdown",
      "metadata": {
        "id": "Ms4iz3ax5P_s",
        "colab_type": "text"
      },
      "source": [
        " # **Data Wrangling**\n",
        "According to one row of the data obtained above, the data provided in each column can be described as follows:\n",
        "\n",
        "\n",
        "*   PassengerId = the unique number that identifies each passenger\n",
        "*   Survived = Value of \"1\" indicates the passenger survived and \"0\" indicates otherwise\n",
        "*   Pclass = Passenger class (1 = 1st class, 2 = 2nd, 3 = 3rd)\n",
        "*   Name = Name of passenger\n",
        "*   Sex = Sex of Passenger\n",
        "*   Age = Age of Passenger\n",
        "*   SibSp = Number of Siblings/Spouses of the passenger aboard\n",
        "*   Parch = Number of Parents/Children of the passenger aboard\n",
        "*   Ticket = Ticket number of Passenger\n",
        "*   Fare = Passenger ticket fare\n",
        "*   Cabin = Cabin passenger travelled in\n",
        "*   Embarked = Port of embarkation (C = Cherbourg, Q = Queenstown, S = Southampton)\n",
        "\n",
        "*Special Notes*\n",
        "1.   Pclass: proxy for the passenger's socio-economic status (1 = Upper, 2 = Middle ,3 = Lower) \n",
        "2.   Sibling: brother, sister, stepbrother, or stepsister of passenger aboard\n",
        "3.   Spouse: husband or wife of passenger aboard(mistresses and fiancees ignored)\n",
        "4.   Parent: mother or father of passenger aboard\n",
        "5.   Child: son, daughter, stepson, or stepdaughter of passenger aboard\n",
        "\n",
        "*Additional Potential Questions*\n",
        "1. Did having relatives aboard increase chance of survival?\n",
        "2. Did the cabin passengers travelled in contibute to survival rates? Cabins with low survival rates closer to place hit by iceberg?\n",
        "3.   port of embarkation?? port before accident??\n",
        "\n",
        "\n",
        "\n",
        "\n",
        "\n",
        "\n",
        "\n",
        "\n",
        "\n",
        "\n",
        "\n"
      ]
    },
    {
      "cell_type": "markdown",
      "metadata": {
        "id": "wHank2P8NoZo",
        "colab_type": "text"
      },
      "source": [
        " # **Data Cleaning**\n",
        "\n",
        "Firsly for duplicate entries to be removed I created a set contaning all unique PassengerId values which shows there aren't any since it has the same number of entries as in the original set of data.\n",
        "Also removing unnecessary columns helps data exploration so I thought the columns: Cabin,Name and Ticket weren't contributing much for the analysis and so deleted them.\n"
      ]
    },
    {
      "cell_type": "code",
      "metadata": {
        "id": "shDuFyeZnHbu",
        "colab_type": "code",
        "colab": {
          "base_uri": "https://localhost:8080/",
          "height": 50
        },
        "outputId": "5aeb7b67-2108-41f7-c533-7af0c2d52943"
      },
      "source": [
        "print(len(titanic_data))\n",
        "\n",
        "unique_passenger_records= set()\n",
        "for passenger_record in titanic_data:\n",
        "  unique_passenger_records.add(passenger_record['PassengerId'])\n",
        "print(len(unique_passenger_records))\n"
      ],
      "execution_count": 41,
      "outputs": [
        {
          "output_type": "stream",
          "text": [
            "891\n",
            "891\n"
          ],
          "name": "stdout"
        }
      ]
    },
    {
      "cell_type": "code",
      "metadata": {
        "id": "zeDRIyuHzcsy",
        "colab_type": "code",
        "colab": {
          "base_uri": "https://localhost:8080/",
          "height": 53
        },
        "outputId": "71e001a5-7651-4424-fc7c-397fbb509bb7"
      },
      "source": [
        "for passenger_record in titanic_data:\n",
        "  passenger_record.pop('Cabin',None)\n",
        "  passenger_record.pop('Ticket',None)\n",
        "  passenger_record.pop('Fare',None)\n",
        "\n",
        "print(titanic_data[1])"
      ],
      "execution_count": 42,
      "outputs": [
        {
          "output_type": "stream",
          "text": [
            "OrderedDict([('PassengerId', '2'), ('Survived', '1'), ('Pclass', '1'), ('Name', 'Cumings, Mrs. John Bradley (Florence Briggs Thayer)'), ('Sex', 'female'), ('Age', '38'), ('SibSp', '1'), ('Parch', '0'), ('Embarked', 'C')])\n"
          ],
          "name": "stdout"
        }
      ]
    },
    {
      "cell_type": "markdown",
      "metadata": {
        "id": "oulUJvzF0Cyb",
        "colab_type": "text"
      },
      "source": [
        " # **Data Exploration**\n",
        " This phase of the project would look into code used to identify factors that contributed to higher survival rates as mentioned in the introduction.It would also identify some interesting statistical facts from the data, for example: Who was the youngest survivor? \n",
        "Before carrying out the analysis we can use  the pandas library to convert the data in the csv file into a dataframe to make it more accesible and visual.Unnecessary columns are also removed.\n",
        "\n",
        "\n"
      ]
    },
    {
      "cell_type": "code",
      "metadata": {
        "id": "xmRGhRWZc7g6",
        "colab_type": "code",
        "colab": {
          "base_uri": "https://localhost:8080/",
          "height": 150
        },
        "outputId": "f46747ea-08d5-439b-d75f-f9a894174188"
      },
      "source": [
        "import pandas as pd\n",
        "titanic_df = pd.read_csv('titanic_data.csv')\n",
        "\n",
        "print(titanic_df.head())"
      ],
      "execution_count": 43,
      "outputs": [
        {
          "output_type": "stream",
          "text": [
            "   PassengerId  Survived  Pclass  ...     Fare Cabin  Embarked\n",
            "0            1         0       3  ...   7.2500   NaN         S\n",
            "1            2         1       1  ...  71.2833   C85         C\n",
            "2            3         1       3  ...   7.9250   NaN         S\n",
            "3            4         1       1  ...  53.1000  C123         S\n",
            "4            5         0       3  ...   8.0500   NaN         S\n",
            "\n",
            "[5 rows x 12 columns]\n"
          ],
          "name": "stdout"
        }
      ]
    },
    {
      "cell_type": "code",
      "metadata": {
        "id": "N39XJqwMeHn5",
        "colab_type": "code",
        "colab": {
          "base_uri": "https://localhost:8080/",
          "height": 150
        },
        "outputId": "92f746d8-d3ec-4585-8857-e4f0ae2dae31"
      },
      "source": [
        "titanic_df_new = titanic_df.drop(['PassengerId','Ticket','Cabin','Fare'], axis=1)\n",
        "print(titanic_df_new.head())"
      ],
      "execution_count": 61,
      "outputs": [
        {
          "output_type": "stream",
          "text": [
            "   Survived  Pclass  ... Parch Embarked\n",
            "0         0       3  ...     0        S\n",
            "1         1       1  ...     0        C\n",
            "2         1       3  ...     0        S\n",
            "3         1       1  ...     0        S\n",
            "4         0       3  ...     0        S\n",
            "\n",
            "[5 rows x 8 columns]\n"
          ],
          "name": "stdout"
        }
      ]
    },
    {
      "cell_type": "markdown",
      "metadata": {
        "id": "CincFoA1eqxb",
        "colab_type": "text"
      },
      "source": [
        "Using the isnull function helps us spot missing values in all the respective columns in the dataframe."
      ]
    },
    {
      "cell_type": "code",
      "metadata": {
        "id": "M-hIO-E_jGPX",
        "colab_type": "code",
        "colab": {
          "base_uri": "https://localhost:8080/",
          "height": 167
        },
        "outputId": "f9f88c93-a723-44fe-ff90-1c56d045f0bd"
      },
      "source": [
        "titanic_df_new.isnull().sum()"
      ],
      "execution_count": 45,
      "outputs": [
        {
          "output_type": "execute_result",
          "data": {
            "text/plain": [
              "Survived      0\n",
              "Pclass        0\n",
              "Name          0\n",
              "Sex           0\n",
              "Age         177\n",
              "SibSp         0\n",
              "Parch         0\n",
              "Embarked      2\n",
              "dtype: int64"
            ]
          },
          "metadata": {
            "tags": []
          },
          "execution_count": 45
        }
      ]
    },
    {
      "cell_type": "markdown",
      "metadata": {
        "id": "S_QFnrxVdgsn",
        "colab_type": "text"
      },
      "source": [
        "1. What percentage of the total number of passengers survived?"
      ]
    },
    {
      "cell_type": "code",
      "metadata": {
        "id": "HFbHnw5E098p",
        "colab_type": "code",
        "colab": {
          "base_uri": "https://localhost:8080/",
          "height": 67
        },
        "outputId": "6bc1297c-7ffe-4c1c-e827-72a2fb8aa40e"
      },
      "source": [
        "survived = titanic_df_new['Survived']== True\n",
        "non_survived = titanic_df_new['Survived']== False\n",
        "\n",
        "print('Number of passengers who survived: {}'.format(survived.sum()))\n",
        "print('Number of passengers who did not survive: {}'.format(non_survived.sum()))\n",
        "\n",
        "percent_survived =(survived.sum()/891) *100\n",
        "print('Percentage of passengers who survived: {}%'.format(percent_survived))"
      ],
      "execution_count": 46,
      "outputs": [
        {
          "output_type": "stream",
          "text": [
            "Number of passengers who survived: 342\n",
            "Number of passengers who did not survive: 549\n",
            "Percentage of passengers who survived: 38.38383838383838%\n"
          ],
          "name": "stdout"
        }
      ]
    },
    {
      "cell_type": "markdown",
      "metadata": {
        "id": "Aq4kfXRRv28u",
        "colab_type": "text"
      },
      "source": [
        " 2. Did survival rates depend on the sex of the passenger?\n",
        "\n"
      ]
    },
    {
      "cell_type": "code",
      "metadata": {
        "id": "zrHdodCvWUO2",
        "colab_type": "code",
        "colab": {
          "base_uri": "https://localhost:8080/",
          "height": 67
        },
        "outputId": "6703bd86-5b8d-42a3-b1d4-63b9be715890"
      },
      "source": [
        "female_survived = titanic_df_new[survived]['Sex']=='female'\n",
        "male_survived = titanic_df_new[survived]['Sex']=='male'\n",
        "\n",
        "print('Number of female passengers who survived: {}'.format(female_survived.sum()))\n",
        "print('Number of male passengers who survived: {}'.format(male_survived.sum()))\n",
        "\n",
        "percent_female_survived = (female_survived.sum()/342) *100\n",
        "print('{}% of the passengers who survived were female.'.format(percent_female_survived))"
      ],
      "execution_count": 67,
      "outputs": [
        {
          "output_type": "stream",
          "text": [
            "Number of female passengers who survived: 233\n",
            "Number of male passengers who survived: 109\n",
            "68.12865497076024% of the passengers who survived were female.\n"
          ],
          "name": "stdout"
        }
      ]
    },
    {
      "cell_type": "markdown",
      "metadata": {
        "id": "DCK7ILttvV51",
        "colab_type": "text"
      },
      "source": [
        "3.   Who were the youngest and oldest survivors and how old were they?\n",
        "\n"
      ]
    },
    {
      "cell_type": "code",
      "metadata": {
        "id": "qZgoOAsz860A",
        "colab_type": "code",
        "colab": {
          "base_uri": "https://localhost:8080/",
          "height": 50
        },
        "outputId": "848ecf7a-3956-4564-e0ef-60330e9391ec"
      },
      "source": [
        "missing_age_data = pd.isnull(titanic_df_new['Age'])\n",
        "youngest_survivor = titanic_df_new[survived]['Age'].argmin()\n",
        "youngest_survivor_name = titanic_df_new[survived].iloc[youngest_survivor]['Name']\n",
        "youngest_survivor_age= titanic_df_new[survived].iloc[youngest_survivor]['Age']\n",
        "print('The youngest survivor {} was {} years old.'.format(youngest_survivor_name,youngest_survivor_age))\n",
        "\n",
        "oldest_survivor = titanic_df_new[survived]['Age'].argmax()\n",
        "oldest_survivor_name = titanic_df_new[survived].iloc[oldest_survivor]['Name']\n",
        "oldest_survivor_age= titanic_df_new[survived].iloc[oldest_survivor]['Age']\n",
        "print('The oldest survivor {} was {} years old.'.format(oldest_survivor_name,oldest_survivor_age))"
      ],
      "execution_count": 59,
      "outputs": [
        {
          "output_type": "stream",
          "text": [
            "The youngest survivor Thomas, Master. Assad Alexander was 0.42 years old.\n",
            "The oldest survivor Barkworth, Mr. Algernon Henry Wilson was 80.0 years old.\n"
          ],
          "name": "stdout"
        }
      ]
    },
    {
      "cell_type": "markdown",
      "metadata": {
        "id": "dwHe13RmvhZs",
        "colab_type": "text"
      },
      "source": [
        "4.  Who were the youngest and oldest non-survivors and how old were they?\n",
        "\n"
      ]
    },
    {
      "cell_type": "code",
      "metadata": {
        "id": "W8RRWMsKbxfH",
        "colab_type": "code",
        "colab": {
          "base_uri": "https://localhost:8080/",
          "height": 50
        },
        "outputId": "28680e58-c4fd-4bbf-b057-c6aaccb04b44"
      },
      "source": [
        "youngest_non_survivor = titanic_df_new[non_survived]['Age'].argmin()\n",
        "youngest_non_survivor_name = titanic_df_new[non_survived].iloc[youngest_non_survivor]['Name']\n",
        "youngest_non_survivor_age= titanic_df_new[non_survived].iloc[youngest_non_survivor]['Age']\n",
        "print('The youngest non-survivor {} was {} years old.'.format(youngest_non_survivor_name,youngest_non_survivor_age))\n",
        "\n",
        "oldest_non_survivor = titanic_df_new[non_survived]['Age'].argmax()\n",
        "oldest_non_survivor_name = titanic_df_new[non_survived].iloc[oldest_non_survivor]['Name']\n",
        "oldest_non_survivor_age= titanic_df_new[non_survived].iloc[oldest_non_survivor]['Age']\n",
        "print('The oldest non-survivor {} was {} years old.'.format(oldest_non_survivor_name,oldest_non_survivor_age))"
      ],
      "execution_count": 60,
      "outputs": [
        {
          "output_type": "stream",
          "text": [
            "The youngest non-survivor Panula, Master. Eino Viljami was 1.0 years old.\n",
            "The oldest non-survivor Svensson, Mr. Johan was 74.0 years old.\n"
          ],
          "name": "stdout"
        }
      ]
    },
    {
      "cell_type": "markdown",
      "metadata": {
        "id": "BoLoh_02wUAc",
        "colab_type": "text"
      },
      "source": [
        "\n",
        "\n",
        "5.  Which age group consisted of the largest number of survivors?Did age have any significant effect on the chance of survival?\n"
      ]
    },
    {
      "cell_type": "code",
      "metadata": {
        "id": "yZTbg8CuFcpR",
        "colab_type": "code",
        "colab": {
          "base_uri": "https://localhost:8080/",
          "height": 33
        },
        "outputId": "b8ef484e-ca7c-4bbe-f173-b15ef342ca1e"
      },
      "source": [
        "below_19=titanic_df_new[survived]['Age']<=19\n",
        "print(below_19.sum())"
      ],
      "execution_count": 65,
      "outputs": [
        {
          "output_type": "stream",
          "text": [
            "79\n"
          ],
          "name": "stdout"
        }
      ]
    },
    {
      "cell_type": "markdown",
      "metadata": {
        "id": "Dr9zMkebG5qh",
        "colab_type": "text"
      },
      "source": [
        "6. Is there any correlation between the socio economic status of the passenger and their survival rates?"
      ]
    },
    {
      "cell_type": "code",
      "metadata": {
        "id": "pq-eWv84HSzd",
        "colab_type": "code",
        "colab": {
          "base_uri": "https://localhost:8080/",
          "height": 87
        },
        "outputId": "ab410281-4d90-4ed7-c425-6a0d23aa710f"
      },
      "source": [
        "Pclass1_s= titanic_df_new[survived]['Pclass']=='1'\n",
        "Pclass2_s= titanic_df_new[survived]['Pclass']=='2'\n",
        "Pclass3_s= titanic_df_new[survived]['Pclass']=='3'\n",
        "\n",
        "print('Out of all passengers who survived, {} belonged to the upper class, {} belonged to the middle class and {} belonged to the lower class'.format(Pclass1_s.sum(),Pclass2_s.sum(),Pclass3_s.sum()))\n"
      ],
      "execution_count": 66,
      "outputs": [
        {
          "output_type": "stream",
          "text": [
            "Out of all passengers who survived, 0 belonged to the upper class, 0 belonged to the middle class and 0 belonged to the lower class\n"
          ],
          "name": "stdout"
        },
        {
          "output_type": "stream",
          "text": [
            "/usr/local/lib/python3.6/dist-packages/pandas/core/ops/array_ops.py:253: FutureWarning: elementwise comparison failed; returning scalar instead, but in the future will perform elementwise comparison\n",
            "  res_values = method(rvalues)\n"
          ],
          "name": "stderr"
        }
      ]
    },
    {
      "cell_type": "markdown",
      "metadata": {
        "id": "Dubyxuu-JJeT",
        "colab_type": "text"
      },
      "source": [
        " # **Conclusion**\n",
        " "
      ]
    },
    {
      "cell_type": "code",
      "metadata": {
        "id": "OwqAS5wXJUgJ",
        "colab_type": "code",
        "colab": {}
      },
      "source": [
        ""
      ],
      "execution_count": null,
      "outputs": []
    }
  ]
}