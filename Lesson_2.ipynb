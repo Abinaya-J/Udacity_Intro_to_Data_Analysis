{
  "nbformat": 4,
  "nbformat_minor": 0,
  "metadata": {
    "colab": {
      "name": "Lesson 2.ipynb",
      "provenance": [],
      "authorship_tag": "ABX9TyNXUiWSVdMxXiO5MGdeYhfr",
      "include_colab_link": true
    },
    "kernelspec": {
      "name": "python3",
      "display_name": "Python 3"
    }
  },
  "cells": [
    {
      "cell_type": "markdown",
      "metadata": {
        "id": "view-in-github",
        "colab_type": "text"
      },
      "source": [
        "<a href=\"https://colab.research.google.com/github/Abinaya-J/Udacity_Intro_to_Data_Analysis/blob/master/Lesson_2.ipynb\" target=\"_parent\"><img src=\"https://colab.research.google.com/assets/colab-badge.svg\" alt=\"Open In Colab\"/></a>"
      ]
    },
    {
      "cell_type": "code",
      "metadata": {
        "id": "dTVcqtS_GyGe",
        "colab_type": "code",
        "colab": {}
      },
      "source": [
        "# First 20 countries with school completion data\n",
        "countries = np.array([\n",
        "       'Algeria', 'Argentina', 'Armenia', 'Aruba', 'Austria','Azerbaijan',\n",
        "       'Bahamas', 'Barbados', 'Belarus', 'Belgium', 'Belize', 'Bolivia',\n",
        "       'Botswana', 'Brunei', 'Bulgaria', 'Burkina Faso', 'Burundi',\n",
        "       'Cambodia', 'Cameroon', 'Cape Verde'\n",
        "])\n",
        "\n",
        "# Female school completion rate in 2007 for those 20 countries\n",
        "female_completion = np.array([\n",
        "    97.35583,  104.62379,  103.02998,   95.14321,  103.69019,\n",
        "    98.49185,  100.88828,   95.43974,   92.11484,   91.54804,\n",
        "    95.98029,   98.22902,   96.12179,  119.28105,   97.84627,\n",
        "    29.07386,   38.41644,   90.70509,   51.7478 ,   95.45072\n",
        "])\n",
        "\n",
        "# Male school completion rate in 2007 for those 20 countries\n",
        "male_completion = np.array([\n",
        "     95.47622,  100.66476,   99.7926 ,   91.48936,  103.22096,\n",
        "     97.80458,  103.81398,   88.11736,   93.55611,   87.76347,\n",
        "    102.45714,   98.73953,   92.22388,  115.3892 ,   98.70502,\n",
        "     37.00692,   45.39401,   91.22084,   62.42028,   90.66958\n",
        "])\n",
        "\n",
        "def overall_completion_rate(female_completion, male_completion):\n",
        "   \n",
        "    '''\n",
        "    Fill in this function to return a NumPy array containing the overall\n",
        "    school completion rate for each country. The arguments are NumPy\n",
        "    arrays giving the female and male completion of each country in\n",
        "    the same order.\n",
        "    '''\n",
        "    return(female_completion+male_completion)/2\n",
        "print(overall_completion_rate(female_completion, male_completion)) "
      ],
      "execution_count": null,
      "outputs": []
    }
  ]
}